{
 "cells": [
  {
   "cell_type": "code",
   "execution_count": 1,
   "metadata": {},
   "outputs": [],
   "source": [
    "import numpy as np\n",
    "import pandas as pd\n",
    "import matplotlib.pyplot as plt\n",
    "import seaborn as sns\n",
    "sns.set(style=\"darkgrid\", font_scale=1.5)\n",
    "%matplotlib inline\n",
    "import tensorflow as tf\n",
    "from tensorflow.keras import layers\n",
    "from tensorflow.keras import Sequential\n",
    "from tensorflow.keras.layers import Dense, LSTM,Dropout\n",
    "from sklearn.metrics import mean_squared_error\n",
    "from numpy import array\n",
    "from numpy import savetxt"
   ]
  },
  {
   "cell_type": "code",
   "execution_count": null,
   "metadata": {},
   "outputs": [],
   "source": []
  },
  {
   "cell_type": "code",
   "execution_count": 77,
   "metadata": {},
   "outputs": [
    {
     "data": {
      "text/plain": [
       "(942297, 12)"
      ]
     },
     "execution_count": 77,
     "metadata": {},
     "output_type": "execute_result"
    }
   ],
   "source": [
    "df = pd.read_csv(\"C:\\\\Users\\\\arjun\\\\Desktop\\\\allprices\\\\crypto-markets.csv\", parse_dates=[\"date\"], index_col=\"date\")\n",
    "df.shape"
   ]
  },
  {
   "cell_type": "code",
   "execution_count": 81,
   "metadata": {},
   "outputs": [
    {
     "data": {
      "text/plain": [
       "litecoin                            2042\n",
       "bitcoin                             2042\n",
       "namecoin                            2042\n",
       "novacoin                            2041\n",
       "peercoin                            2041\n",
       "feathercoin                         2037\n",
       "terracoin                           2027\n",
       "bitbar                              2014\n",
       "worldcoin                           2003\n",
       "digitalcoin                         1999\n",
       "goldcoin                            1988\n",
       "primecoin                           1968\n",
       "anoncoin                            1948\n",
       "ripple                              1944\n",
       "bullion                             1939\n",
       "ixcoin                              1939\n",
       "megacoin                            1938\n",
       "infinitecoin                        1930\n",
       "freicoin                            1930\n",
       "quark                               1919\n",
       "phoenixcoin                         1907\n",
       "zetacoin                            1903\n",
       "fastcoin                            1876\n",
       "argentum                            1840\n",
       "tagcoin                             1839\n",
       "flo                                 1829\n",
       "casinocoin                          1828\n",
       "nxt                                 1822\n",
       "deutsche-emark                      1811\n",
       "dogecoin                            1811\n",
       "                                    ... \n",
       "bgogo-token                           28\n",
       "crypticcoin                           28\n",
       "palletone                             24\n",
       "coin-lion                             24\n",
       "bzlcoin                               24\n",
       "atidium                               24\n",
       "nerva                                 23\n",
       "intervalue                            23\n",
       "humanscape                            22\n",
       "etherinc                              22\n",
       "optimal-shelf-availability-token      22\n",
       "menlo-one                             21\n",
       "bitcoin-sv                            21\n",
       "skyhub-coin                           18\n",
       "vites                                 16\n",
       "bdt-token                             16\n",
       "crowdwiz                              16\n",
       "howdoo                                15\n",
       "vestchain                             15\n",
       "cwv-chain                             14\n",
       "micromines                            11\n",
       "noir                                   9\n",
       "business-credit-alliance-chain         9\n",
       "hyperquant                             3\n",
       "stacs                                  3\n",
       "ilcoin                                 3\n",
       "blockchain-certified-data-token        2\n",
       "bitnautic-token                        2\n",
       "atlas-protocol                         2\n",
       "beat                                   2\n",
       "Name: slug, Length: 2071, dtype: int64"
      ]
     },
     "execution_count": 81,
     "metadata": {},
     "output_type": "execute_result"
    }
   ],
   "source": [
    "df['slug'].value_counts()"
   ]
  },
  {
   "cell_type": "code",
   "execution_count": 19,
   "metadata": {},
   "outputs": [],
   "source": [
    "df = df[df.slug == \"litecoin\"][['close']]"
   ]
  },
  {
   "cell_type": "code",
   "execution_count": 20,
   "metadata": {},
   "outputs": [
    {
     "data": {
      "text/html": [
       "<div>\n",
       "<style scoped>\n",
       "    .dataframe tbody tr th:only-of-type {\n",
       "        vertical-align: middle;\n",
       "    }\n",
       "\n",
       "    .dataframe tbody tr th {\n",
       "        vertical-align: top;\n",
       "    }\n",
       "\n",
       "    .dataframe thead th {\n",
       "        text-align: right;\n",
       "    }\n",
       "</style>\n",
       "<table border=\"1\" class=\"dataframe\">\n",
       "  <thead>\n",
       "    <tr style=\"text-align: right;\">\n",
       "      <th></th>\n",
       "      <th>close</th>\n",
       "      <th>index</th>\n",
       "    </tr>\n",
       "    <tr>\n",
       "      <th>date</th>\n",
       "      <th></th>\n",
       "      <th></th>\n",
       "    </tr>\n",
       "  </thead>\n",
       "  <tbody>\n",
       "    <tr>\n",
       "      <th>2013-04-28</th>\n",
       "      <td>4.35</td>\n",
       "      <td>2013-04-28</td>\n",
       "    </tr>\n",
       "    <tr>\n",
       "      <th>2013-04-29</th>\n",
       "      <td>4.38</td>\n",
       "      <td>2013-04-29</td>\n",
       "    </tr>\n",
       "    <tr>\n",
       "      <th>2013-04-30</th>\n",
       "      <td>4.30</td>\n",
       "      <td>2013-04-30</td>\n",
       "    </tr>\n",
       "    <tr>\n",
       "      <th>2013-05-01</th>\n",
       "      <td>3.80</td>\n",
       "      <td>2013-05-01</td>\n",
       "    </tr>\n",
       "    <tr>\n",
       "      <th>2013-05-02</th>\n",
       "      <td>3.37</td>\n",
       "      <td>2013-05-02</td>\n",
       "    </tr>\n",
       "    <tr>\n",
       "      <th>2013-05-03</th>\n",
       "      <td>3.04</td>\n",
       "      <td>2013-05-03</td>\n",
       "    </tr>\n",
       "    <tr>\n",
       "      <th>2013-05-04</th>\n",
       "      <td>3.48</td>\n",
       "      <td>2013-05-04</td>\n",
       "    </tr>\n",
       "    <tr>\n",
       "      <th>2013-05-05</th>\n",
       "      <td>3.59</td>\n",
       "      <td>2013-05-05</td>\n",
       "    </tr>\n",
       "    <tr>\n",
       "      <th>2013-05-06</th>\n",
       "      <td>3.37</td>\n",
       "      <td>2013-05-06</td>\n",
       "    </tr>\n",
       "    <tr>\n",
       "      <th>2013-05-07</th>\n",
       "      <td>3.33</td>\n",
       "      <td>2013-05-07</td>\n",
       "    </tr>\n",
       "    <tr>\n",
       "      <th>2013-05-08</th>\n",
       "      <td>3.41</td>\n",
       "      <td>2013-05-08</td>\n",
       "    </tr>\n",
       "    <tr>\n",
       "      <th>2013-05-09</th>\n",
       "      <td>3.42</td>\n",
       "      <td>2013-05-09</td>\n",
       "    </tr>\n",
       "    <tr>\n",
       "      <th>2013-05-10</th>\n",
       "      <td>3.44</td>\n",
       "      <td>2013-05-10</td>\n",
       "    </tr>\n",
       "    <tr>\n",
       "      <th>2013-05-11</th>\n",
       "      <td>3.35</td>\n",
       "      <td>2013-05-11</td>\n",
       "    </tr>\n",
       "    <tr>\n",
       "      <th>2013-05-12</th>\n",
       "      <td>3.27</td>\n",
       "      <td>2013-05-12</td>\n",
       "    </tr>\n",
       "    <tr>\n",
       "      <th>2013-05-13</th>\n",
       "      <td>3.28</td>\n",
       "      <td>2013-05-13</td>\n",
       "    </tr>\n",
       "    <tr>\n",
       "      <th>2013-05-14</th>\n",
       "      <td>2.82</td>\n",
       "      <td>2013-05-14</td>\n",
       "    </tr>\n",
       "    <tr>\n",
       "      <th>2013-05-15</th>\n",
       "      <td>2.94</td>\n",
       "      <td>2013-05-15</td>\n",
       "    </tr>\n",
       "    <tr>\n",
       "      <th>2013-05-16</th>\n",
       "      <td>2.92</td>\n",
       "      <td>2013-05-16</td>\n",
       "    </tr>\n",
       "    <tr>\n",
       "      <th>2013-05-17</th>\n",
       "      <td>3.19</td>\n",
       "      <td>2013-05-17</td>\n",
       "    </tr>\n",
       "    <tr>\n",
       "      <th>2013-05-18</th>\n",
       "      <td>3.29</td>\n",
       "      <td>2013-05-18</td>\n",
       "    </tr>\n",
       "    <tr>\n",
       "      <th>2013-05-19</th>\n",
       "      <td>3.30</td>\n",
       "      <td>2013-05-19</td>\n",
       "    </tr>\n",
       "    <tr>\n",
       "      <th>2013-05-20</th>\n",
       "      <td>3.18</td>\n",
       "      <td>2013-05-20</td>\n",
       "    </tr>\n",
       "    <tr>\n",
       "      <th>2013-05-21</th>\n",
       "      <td>3.09</td>\n",
       "      <td>2013-05-21</td>\n",
       "    </tr>\n",
       "    <tr>\n",
       "      <th>2013-05-22</th>\n",
       "      <td>3.12</td>\n",
       "      <td>2013-05-22</td>\n",
       "    </tr>\n",
       "    <tr>\n",
       "      <th>2013-05-23</th>\n",
       "      <td>3.18</td>\n",
       "      <td>2013-05-23</td>\n",
       "    </tr>\n",
       "    <tr>\n",
       "      <th>2013-05-24</th>\n",
       "      <td>3.18</td>\n",
       "      <td>2013-05-24</td>\n",
       "    </tr>\n",
       "    <tr>\n",
       "      <th>2013-05-25</th>\n",
       "      <td>3.12</td>\n",
       "      <td>2013-05-25</td>\n",
       "    </tr>\n",
       "    <tr>\n",
       "      <th>2013-05-26</th>\n",
       "      <td>3.25</td>\n",
       "      <td>2013-05-26</td>\n",
       "    </tr>\n",
       "    <tr>\n",
       "      <th>2013-05-27</th>\n",
       "      <td>3.10</td>\n",
       "      <td>2013-05-27</td>\n",
       "    </tr>\n",
       "    <tr>\n",
       "      <th>...</th>\n",
       "      <td>...</td>\n",
       "      <td>...</td>\n",
       "    </tr>\n",
       "    <tr>\n",
       "      <th>2018-10-31</th>\n",
       "      <td>49.44</td>\n",
       "      <td>2018-10-31</td>\n",
       "    </tr>\n",
       "    <tr>\n",
       "      <th>2018-11-01</th>\n",
       "      <td>50.27</td>\n",
       "      <td>2018-11-01</td>\n",
       "    </tr>\n",
       "    <tr>\n",
       "      <th>2018-11-02</th>\n",
       "      <td>51.33</td>\n",
       "      <td>2018-11-02</td>\n",
       "    </tr>\n",
       "    <tr>\n",
       "      <th>2018-11-03</th>\n",
       "      <td>50.97</td>\n",
       "      <td>2018-11-03</td>\n",
       "    </tr>\n",
       "    <tr>\n",
       "      <th>2018-11-04</th>\n",
       "      <td>53.61</td>\n",
       "      <td>2018-11-04</td>\n",
       "    </tr>\n",
       "    <tr>\n",
       "      <th>2018-11-05</th>\n",
       "      <td>53.55</td>\n",
       "      <td>2018-11-05</td>\n",
       "    </tr>\n",
       "    <tr>\n",
       "      <th>2018-11-06</th>\n",
       "      <td>55.95</td>\n",
       "      <td>2018-11-06</td>\n",
       "    </tr>\n",
       "    <tr>\n",
       "      <th>2018-11-07</th>\n",
       "      <td>54.19</td>\n",
       "      <td>2018-11-07</td>\n",
       "    </tr>\n",
       "    <tr>\n",
       "      <th>2018-11-08</th>\n",
       "      <td>52.37</td>\n",
       "      <td>2018-11-08</td>\n",
       "    </tr>\n",
       "    <tr>\n",
       "      <th>2018-11-09</th>\n",
       "      <td>51.90</td>\n",
       "      <td>2018-11-09</td>\n",
       "    </tr>\n",
       "    <tr>\n",
       "      <th>2018-11-10</th>\n",
       "      <td>52.40</td>\n",
       "      <td>2018-11-10</td>\n",
       "    </tr>\n",
       "    <tr>\n",
       "      <th>2018-11-11</th>\n",
       "      <td>51.36</td>\n",
       "      <td>2018-11-11</td>\n",
       "    </tr>\n",
       "    <tr>\n",
       "      <th>2018-11-12</th>\n",
       "      <td>50.65</td>\n",
       "      <td>2018-11-12</td>\n",
       "    </tr>\n",
       "    <tr>\n",
       "      <th>2018-11-13</th>\n",
       "      <td>49.70</td>\n",
       "      <td>2018-11-13</td>\n",
       "    </tr>\n",
       "    <tr>\n",
       "      <th>2018-11-14</th>\n",
       "      <td>43.61</td>\n",
       "      <td>2018-11-14</td>\n",
       "    </tr>\n",
       "    <tr>\n",
       "      <th>2018-11-15</th>\n",
       "      <td>43.95</td>\n",
       "      <td>2018-11-15</td>\n",
       "    </tr>\n",
       "    <tr>\n",
       "      <th>2018-11-16</th>\n",
       "      <td>42.46</td>\n",
       "      <td>2018-11-16</td>\n",
       "    </tr>\n",
       "    <tr>\n",
       "      <th>2018-11-17</th>\n",
       "      <td>41.93</td>\n",
       "      <td>2018-11-17</td>\n",
       "    </tr>\n",
       "    <tr>\n",
       "      <th>2018-11-18</th>\n",
       "      <td>42.33</td>\n",
       "      <td>2018-11-18</td>\n",
       "    </tr>\n",
       "    <tr>\n",
       "      <th>2018-11-19</th>\n",
       "      <td>36.64</td>\n",
       "      <td>2018-11-19</td>\n",
       "    </tr>\n",
       "    <tr>\n",
       "      <th>2018-11-20</th>\n",
       "      <td>33.04</td>\n",
       "      <td>2018-11-20</td>\n",
       "    </tr>\n",
       "    <tr>\n",
       "      <th>2018-11-21</th>\n",
       "      <td>34.67</td>\n",
       "      <td>2018-11-21</td>\n",
       "    </tr>\n",
       "    <tr>\n",
       "      <th>2018-11-22</th>\n",
       "      <td>32.20</td>\n",
       "      <td>2018-11-22</td>\n",
       "    </tr>\n",
       "    <tr>\n",
       "      <th>2018-11-23</th>\n",
       "      <td>32.16</td>\n",
       "      <td>2018-11-23</td>\n",
       "    </tr>\n",
       "    <tr>\n",
       "      <th>2018-11-24</th>\n",
       "      <td>29.22</td>\n",
       "      <td>2018-11-24</td>\n",
       "    </tr>\n",
       "    <tr>\n",
       "      <th>2018-11-25</th>\n",
       "      <td>30.89</td>\n",
       "      <td>2018-11-25</td>\n",
       "    </tr>\n",
       "    <tr>\n",
       "      <th>2018-11-26</th>\n",
       "      <td>29.41</td>\n",
       "      <td>2018-11-26</td>\n",
       "    </tr>\n",
       "    <tr>\n",
       "      <th>2018-11-27</th>\n",
       "      <td>31.07</td>\n",
       "      <td>2018-11-27</td>\n",
       "    </tr>\n",
       "    <tr>\n",
       "      <th>2018-11-28</th>\n",
       "      <td>34.63</td>\n",
       "      <td>2018-11-28</td>\n",
       "    </tr>\n",
       "    <tr>\n",
       "      <th>2018-11-29</th>\n",
       "      <td>33.80</td>\n",
       "      <td>2018-11-29</td>\n",
       "    </tr>\n",
       "  </tbody>\n",
       "</table>\n",
       "<p>2042 rows × 2 columns</p>\n",
       "</div>"
      ],
      "text/plain": [
       "            close      index\n",
       "date                        \n",
       "2013-04-28   4.35 2013-04-28\n",
       "2013-04-29   4.38 2013-04-29\n",
       "2013-04-30   4.30 2013-04-30\n",
       "2013-05-01   3.80 2013-05-01\n",
       "2013-05-02   3.37 2013-05-02\n",
       "2013-05-03   3.04 2013-05-03\n",
       "2013-05-04   3.48 2013-05-04\n",
       "2013-05-05   3.59 2013-05-05\n",
       "2013-05-06   3.37 2013-05-06\n",
       "2013-05-07   3.33 2013-05-07\n",
       "2013-05-08   3.41 2013-05-08\n",
       "2013-05-09   3.42 2013-05-09\n",
       "2013-05-10   3.44 2013-05-10\n",
       "2013-05-11   3.35 2013-05-11\n",
       "2013-05-12   3.27 2013-05-12\n",
       "2013-05-13   3.28 2013-05-13\n",
       "2013-05-14   2.82 2013-05-14\n",
       "2013-05-15   2.94 2013-05-15\n",
       "2013-05-16   2.92 2013-05-16\n",
       "2013-05-17   3.19 2013-05-17\n",
       "2013-05-18   3.29 2013-05-18\n",
       "2013-05-19   3.30 2013-05-19\n",
       "2013-05-20   3.18 2013-05-20\n",
       "2013-05-21   3.09 2013-05-21\n",
       "2013-05-22   3.12 2013-05-22\n",
       "2013-05-23   3.18 2013-05-23\n",
       "2013-05-24   3.18 2013-05-24\n",
       "2013-05-25   3.12 2013-05-25\n",
       "2013-05-26   3.25 2013-05-26\n",
       "2013-05-27   3.10 2013-05-27\n",
       "...           ...        ...\n",
       "2018-10-31  49.44 2018-10-31\n",
       "2018-11-01  50.27 2018-11-01\n",
       "2018-11-02  51.33 2018-11-02\n",
       "2018-11-03  50.97 2018-11-03\n",
       "2018-11-04  53.61 2018-11-04\n",
       "2018-11-05  53.55 2018-11-05\n",
       "2018-11-06  55.95 2018-11-06\n",
       "2018-11-07  54.19 2018-11-07\n",
       "2018-11-08  52.37 2018-11-08\n",
       "2018-11-09  51.90 2018-11-09\n",
       "2018-11-10  52.40 2018-11-10\n",
       "2018-11-11  51.36 2018-11-11\n",
       "2018-11-12  50.65 2018-11-12\n",
       "2018-11-13  49.70 2018-11-13\n",
       "2018-11-14  43.61 2018-11-14\n",
       "2018-11-15  43.95 2018-11-15\n",
       "2018-11-16  42.46 2018-11-16\n",
       "2018-11-17  41.93 2018-11-17\n",
       "2018-11-18  42.33 2018-11-18\n",
       "2018-11-19  36.64 2018-11-19\n",
       "2018-11-20  33.04 2018-11-20\n",
       "2018-11-21  34.67 2018-11-21\n",
       "2018-11-22  32.20 2018-11-22\n",
       "2018-11-23  32.16 2018-11-23\n",
       "2018-11-24  29.22 2018-11-24\n",
       "2018-11-25  30.89 2018-11-25\n",
       "2018-11-26  29.41 2018-11-26\n",
       "2018-11-27  31.07 2018-11-27\n",
       "2018-11-28  34.63 2018-11-28\n",
       "2018-11-29  33.80 2018-11-29\n",
       "\n",
       "[2042 rows x 2 columns]"
      ]
     },
     "execution_count": 20,
     "metadata": {},
     "output_type": "execute_result"
    }
   ],
   "source": [
    "df['index']=df.index\n",
    "df"
   ]
  },
  {
   "cell_type": "code",
   "execution_count": 21,
   "metadata": {},
   "outputs": [
    {
     "data": {
      "text/plain": [
       "Text(0.5, 1.0, 'Price of Litecoin')"
      ]
     },
     "execution_count": 21,
     "metadata": {},
     "output_type": "execute_result"
    },
    {
     "data": {
      "image/png": "[encoded data removed]",
      "text/plain": [
       "<Figure size 864x432 with 1 Axes>"
      ]
     },
     "metadata": {
      "needs_background": "light"
     },
     "output_type": "display_data"
    }
   ],
   "source": [
    "plt.figure(figsize=(12,6))\n",
    "sns.lineplot(x=df.index, y=\"close\", data=df).set_title(\"Price of Litecoin\")"
   ]
  },
  {
   "cell_type": "code",
   "execution_count": 22,
   "metadata": {},
   "outputs": [
    {
     "data": {
      "text/plain": [
       "Text(0.5, 0.9, 'Down-sampled to 10-day periods')"
      ]
     },
     "execution_count": 22,
     "metadata": {},
     "output_type": "execute_result"
    },
    {
     "data": {
      "image/png": "[encoded data removed]",
      "text/plain": [
       "<Figure size 864x432 with 1 Axes>"
      ]
     },
     "metadata": {
      "needs_background": "light"
     },
     "output_type": "display_data"
    }
   ],
   "source": [
    "df.resample('10D').mean().plot(figsize=(12,6))\n",
    "plt.figtext(.5,0.9,\"Down-sampled to 10-day periods\", fontsize=20, ha='center')"
   ]
  },
  {
   "cell_type": "code",
   "execution_count": 23,
   "metadata": {},
   "outputs": [],
   "source": [
    "data = df.iloc[:, 0]\n",
    "hist = []\n",
    "target = []\n",
    "length = 90\n",
    "for i in range(len(data)-length):\n",
    "    x = data[i:i+length]\n",
    "    y = data[i+length]\n",
    "    hist.append(x)\n",
    "    target.append(y)\n",
    "\n"
   ]
  },
  {
   "cell_type": "code",
   "execution_count": 24,
   "metadata": {},
   "outputs": [
    {
     "data": {
      "text/plain": [
       "(1952, 90)"
      ]
     },
     "execution_count": 24,
     "metadata": {},
     "output_type": "execute_result"
    }
   ],
   "source": [
    "X=np.array(hist)\n",
    "X.shape"
   ]
  },
  {
   "cell_type": "code",
   "execution_count": 25,
   "metadata": {},
   "outputs": [
    {
     "data": {
      "text/plain": [
       "(1952,)"
      ]
     },
     "execution_count": 25,
     "metadata": {},
     "output_type": "execute_result"
    }
   ],
   "source": [
    "y=np.array(target)\n",
    "y.shape"
   ]
  },
  {
   "cell_type": "code",
   "execution_count": 26,
   "metadata": {},
   "outputs": [],
   "source": [
    "hist = np.array(hist)\n",
    "target = np.array(target)\n",
    "target = target.reshape(-1,1)"
   ]
  },
  {
   "cell_type": "code",
   "execution_count": 27,
   "metadata": {},
   "outputs": [
    {
     "name": "stdout",
     "output_type": "stream",
     "text": [
      "(1952, 90, 1)\n"
     ]
    }
   ],
   "source": [
    "hist_scaled = hist.reshape((len(hist), length, 1))\n",
    "print(hist_scaled.shape)\n"
   ]
  },
  {
   "cell_type": "code",
   "execution_count": 66,
   "metadata": {},
   "outputs": [],
   "source": [
    "X_train = hist_scaled[:1900,:,:]\n",
    "X_test = hist_scaled[1900:,:,:]\n",
    "y_train = target[:1900,:]\n",
    "y_test = target[1900:,:]\n"
   ]
  },
  {
   "cell_type": "code",
   "execution_count": 70,
   "metadata": {},
   "outputs": [],
   "source": [
    "y_test.shape\n",
    "savetxt(\"testing_values.txt\",y_test)"
   ]
  },
  {
   "cell_type": "code",
   "execution_count": null,
   "metadata": {},
   "outputs": [],
   "source": []
  },
  {
   "cell_type": "code",
   "execution_count": 75,
   "metadata": {},
   "outputs": [],
   "source": [
    "loadarray=X_test.reshape(X_test.shape[0],-1)"
   ]
  },
  {
   "cell_type": "code",
   "execution_count": 31,
   "metadata": {},
   "outputs": [],
   "source": [
    "savetxt(\"need_data.txt\",loadarray)"
   ]
  },
  {
   "cell_type": "code",
   "execution_count": 32,
   "metadata": {},
   "outputs": [
    {
     "data": {
      "text/plain": [
       "(52, 90)"
      ]
     },
     "execution_count": 32,
     "metadata": {},
     "output_type": "execute_result"
    }
   ],
   "source": [
    "loadarray.shape"
   ]
  },
  {
   "cell_type": "code",
   "execution_count": 33,
   "metadata": {},
   "outputs": [
    {
     "data": {
      "text/plain": [
       "array([[[78.7 ],\n",
       "        [76.81],\n",
       "        [76.94],\n",
       "        ...,\n",
       "        [57.84],\n",
       "        [58.16],\n",
       "        [59.41]],\n",
       "\n",
       "       [[76.81],\n",
       "        [76.94],\n",
       "        [76.72],\n",
       "        ...,\n",
       "        [58.16],\n",
       "        [59.41],\n",
       "        [58.71]],\n",
       "\n",
       "       [[76.94],\n",
       "        [76.72],\n",
       "        [78.94],\n",
       "        ...,\n",
       "        [59.41],\n",
       "        [58.71],\n",
       "        [57.98]],\n",
       "\n",
       "       ...,\n",
       "\n",
       "       [[61.77],\n",
       "        [60.32],\n",
       "        [61.93],\n",
       "        ...,\n",
       "        [29.22],\n",
       "        [30.89],\n",
       "        [29.41]],\n",
       "\n",
       "       [[60.32],\n",
       "        [61.93],\n",
       "        [65.95],\n",
       "        ...,\n",
       "        [30.89],\n",
       "        [29.41],\n",
       "        [31.07]],\n",
       "\n",
       "       [[61.93],\n",
       "        [65.95],\n",
       "        [65.65],\n",
       "        ...,\n",
       "        [29.41],\n",
       "        [31.07],\n",
       "        [34.63]]])"
      ]
     },
     "execution_count": 33,
     "metadata": {},
     "output_type": "execute_result"
    }
   ],
   "source": [
    "loadarray.reshape(52,90,1)"
   ]
  },
  {
   "cell_type": "code",
   "execution_count": 45,
   "metadata": {},
   "outputs": [
    {
     "name": "stdout",
     "output_type": "stream",
     "text": [
      "Model: \"sequential_4\"\n",
      "_________________________________________________________________\n",
      "Layer (type)                 Output Shape              Param #   \n",
      "=================================================================\n",
      "lstm_11 (LSTM)               (None, 90, 30)            3840      \n",
      "_________________________________________________________________\n",
      "lstm_12 (LSTM)               (None, 90, 30)            7320      \n",
      "_________________________________________________________________\n",
      "dropout (Dropout)            (None, 90, 30)            0         \n",
      "_________________________________________________________________\n",
      "lstm_13 (LSTM)               (None, 30)                7320      \n",
      "_________________________________________________________________\n",
      "dropout_1 (Dropout)          (None, 30)                0         \n",
      "_________________________________________________________________\n",
      "dense_3 (Dense)              (None, 1)                 31        \n",
      "=================================================================\n",
      "Total params: 18,511\n",
      "Trainable params: 18,511\n",
      "Non-trainable params: 0\n",
      "_________________________________________________________________\n"
     ]
    }
   ],
   "source": [
    "newmodel = Sequential()\n",
    "newmodel.add(LSTM(units=30, return_sequences= True, input_shape=(X_train.shape[1],1)))\n",
    "newmodel.add(LSTM(units=30, return_sequences=True))\n",
    "newmodel.add(Dropout(0.2))\n",
    "newmodel.add(LSTM(units=30))\n",
    "newmodel.add(Dropout(0.2))\n",
    "\n",
    "newmodel.add(Dense(units=1))\n",
    "newmodel.summary()\n",
    "newmodel.compile(optimizer='adam', loss='mean_squared_error')"
   ]
  },
  {
   "cell_type": "code",
   "execution_count": 46,
   "metadata": {},
   "outputs": [
    {
     "name": "stdout",
     "output_type": "stream",
     "text": [
      "Train on 1900 samples\n",
      "Epoch 1/30\n",
      "1900/1900 [==============================] - 16s 9ms/sample - loss: 3916.0525\n",
      "Epoch 2/30\n",
      "1900/1900 [==============================] - 7s 4ms/sample - loss: 3687.9508\n",
      "Epoch 3/30\n",
      "1900/1900 [==============================] - 7s 4ms/sample - loss: 3593.7567\n",
      "Epoch 4/30\n",
      "1900/1900 [==============================] - 8s 4ms/sample - loss: 3479.6827\n",
      "Epoch 5/30\n",
      "1900/1900 [==============================] - 8s 4ms/sample - loss: 3377.1915\n",
      "Epoch 6/30\n",
      "1900/1900 [==============================] - 8s 4ms/sample - loss: 3296.9155\n",
      "Epoch 7/30\n",
      "1900/1900 [==============================] - 8s 4ms/sample - loss: 3213.0507\n",
      "Epoch 8/30\n",
      "1900/1900 [==============================] - 8s 4ms/sample - loss: 3138.4856\n",
      "Epoch 9/30\n",
      "1900/1900 [==============================] - 8s 4ms/sample - loss: 3067.5033\n",
      "Epoch 10/30\n",
      "1900/1900 [==============================] - 8s 4ms/sample - loss: 2995.6975\n",
      "Epoch 11/30\n",
      "1900/1900 [==============================] - 8s 4ms/sample - loss: 2930.8252\n",
      "Epoch 12/30\n",
      "1900/1900 [==============================] - 8s 4ms/sample - loss: 2857.0363\n",
      "Epoch 13/30\n",
      "1900/1900 [==============================] - 8s 4ms/sample - loss: 2807.8432\n",
      "Epoch 14/30\n",
      "1900/1900 [==============================] - 8s 4ms/sample - loss: 2734.4044\n",
      "Epoch 15/30\n",
      "1900/1900 [==============================] - 8s 4ms/sample - loss: 2669.2146\n",
      "Epoch 16/30\n",
      "1900/1900 [==============================] - 8s 4ms/sample - loss: 2629.0239\n",
      "Epoch 17/30\n",
      "1900/1900 [==============================] - 8s 4ms/sample - loss: 2561.1000\n",
      "Epoch 18/30\n",
      "1900/1900 [==============================] - 8s 4ms/sample - loss: 2511.0174\n",
      "Epoch 19/30\n",
      "1900/1900 [==============================] - 8s 4ms/sample - loss: 2457.4968\n",
      "Epoch 20/30\n",
      "1900/1900 [==============================] - 8s 4ms/sample - loss: 2395.3513\n",
      "Epoch 21/30\n",
      "1900/1900 [==============================] - 8s 4ms/sample - loss: 2345.2344\n",
      "Epoch 22/30\n",
      "1900/1900 [==============================] - 8s 4ms/sample - loss: 2303.9687\n",
      "Epoch 23/30\n",
      "1900/1900 [==============================] - 8s 4ms/sample - loss: 2268.1537\n",
      "Epoch 24/30\n",
      "1900/1900 [==============================] - 8s 4ms/sample - loss: 2201.5825\n",
      "Epoch 25/30\n",
      "1900/1900 [==============================] - 8s 4ms/sample - loss: 2169.4474\n",
      "Epoch 26/30\n",
      "1900/1900 [==============================] - 8s 4ms/sample - loss: 2132.1792\n",
      "Epoch 27/30\n",
      "1900/1900 [==============================] - 8s 4ms/sample - loss: 2088.1913\n",
      "Epoch 28/30\n",
      "1900/1900 [==============================] - 8s 4ms/sample - loss: 2036.4330\n",
      "Epoch 29/30\n",
      "1900/1900 [==============================] - 8s 4ms/sample - loss: 1999.8352\n",
      "Epoch 30/30\n",
      "1900/1900 [==============================] - 8s 4ms/sample - loss: 1956.3203\n"
     ]
    }
   ],
   "source": [
    "history = newmodel.fit(X_train, y_train, epochs=30, batch_size=32)"
   ]
  },
  {
   "cell_type": "code",
   "execution_count": null,
   "metadata": {},
   "outputs": [],
   "source": []
  },
  {
   "cell_type": "code",
   "execution_count": 48,
   "metadata": {},
   "outputs": [
    {
     "data": {
      "image/png": "[encoded data removed]",
      "text/plain": [
       "<Figure size 864x576 with 1 Axes>"
      ]
     },
     "metadata": {
      "needs_background": "light"
     },
     "output_type": "display_data"
    }
   ],
   "source": [
    "pred = newmodel.predict(X_test)\n",
    "plt.figure(figsize=(12,8))\n",
    "plt.plot(y_test, color='blue', label='Real')\n",
    "plt.plot(pred, color='red', label='Prediction')\n",
    "plt.title('Litecoin Price Prediction')\n",
    "plt.legend()\n",
    "plt.show()"
   ]
  },
  {
   "cell_type": "code",
   "execution_count": 50,
   "metadata": {},
   "outputs": [
    {
     "name": "stdout",
     "output_type": "stream",
     "text": [
      "Train on 1900 samples\n",
      "Epoch 1/30\n",
      "1900/1900 [==============================] - 8s 4ms/sample - loss: 1926.7918\n",
      "Epoch 2/30\n",
      "1900/1900 [==============================] - 8s 4ms/sample - loss: 1888.3683\n",
      "Epoch 3/30\n",
      "1900/1900 [==============================] - 8s 4ms/sample - loss: 1859.5553\n",
      "Epoch 4/30\n",
      "1900/1900 [==============================] - 8s 4ms/sample - loss: 1817.9159\n",
      "Epoch 5/30\n",
      "1900/1900 [==============================] - 8s 4ms/sample - loss: 1770.8893\n",
      "Epoch 6/30\n",
      "1900/1900 [==============================] - 8s 4ms/sample - loss: 1764.1627\n",
      "Epoch 7/30\n",
      "1900/1900 [==============================] - 8s 4ms/sample - loss: 1725.2113\n",
      "Epoch 8/30\n",
      "1900/1900 [==============================] - 8s 4ms/sample - loss: 1691.9390\n",
      "Epoch 9/30\n",
      "1900/1900 [==============================] - 8s 4ms/sample - loss: 1653.4114\n",
      "Epoch 10/30\n",
      "1900/1900 [==============================] - 8s 4ms/sample - loss: 1622.5636\n",
      "Epoch 11/30\n",
      "1900/1900 [==============================] - 8s 4ms/sample - loss: 1607.8565\n",
      "Epoch 12/30\n",
      "1900/1900 [==============================] - 8s 4ms/sample - loss: 1567.2296\n",
      "Epoch 13/30\n",
      "1900/1900 [==============================] - 8s 4ms/sample - loss: 1551.0667\n",
      "Epoch 14/30\n",
      "1900/1900 [==============================] - 8s 4ms/sample - loss: 1516.4475\n",
      "Epoch 15/30\n",
      "1900/1900 [==============================] - 8s 4ms/sample - loss: 1500.8993\n",
      "Epoch 16/30\n",
      "1900/1900 [==============================] - 8s 4ms/sample - loss: 1471.3690\n",
      "Epoch 17/30\n",
      "1900/1900 [==============================] - 8s 4ms/sample - loss: 1410.8334\n",
      "Epoch 18/30\n",
      "1900/1900 [==============================] - 8s 4ms/sample - loss: 1386.8425\n",
      "Epoch 19/30\n",
      "1900/1900 [==============================] - 8s 4ms/sample - loss: 1377.0717\n",
      "Epoch 20/30\n",
      "1900/1900 [==============================] - 8s 4ms/sample - loss: 1353.2725\n",
      "Epoch 21/30\n",
      "1900/1900 [==============================] - 8s 4ms/sample - loss: 1315.5051\n",
      "Epoch 22/30\n",
      "1900/1900 [==============================] - 8s 4ms/sample - loss: 1278.6418\n",
      "Epoch 23/30\n",
      "1900/1900 [==============================] - 8s 4ms/sample - loss: 1296.8833\n",
      "Epoch 24/30\n",
      "1900/1900 [==============================] - 8s 4ms/sample - loss: 1261.8126\n",
      "Epoch 25/30\n",
      "1900/1900 [==============================] - 8s 4ms/sample - loss: 1224.0420\n",
      "Epoch 26/30\n",
      "1900/1900 [==============================] - 8s 4ms/sample - loss: 1221.6537\n",
      "Epoch 27/30\n",
      "1900/1900 [==============================] - 9s 5ms/sample - loss: 1173.1995\n",
      "Epoch 28/30\n",
      "1900/1900 [==============================] - 8s 4ms/sample - loss: 1169.2703\n",
      "Epoch 29/30\n",
      "1900/1900 [==============================] - 8s 4ms/sample - loss: 1150.8759\n",
      "Epoch 30/30\n",
      "1900/1900 [==============================] - 8s 4ms/sample - loss: 1132.9393\n"
     ]
    }
   ],
   "source": [
    "history = newmodel.fit(X_train, y_train, epochs=30, batch_size=32)"
   ]
  },
  {
   "cell_type": "code",
   "execution_count": 52,
   "metadata": {},
   "outputs": [
    {
     "data": {
      "image/png": "[encoded data removed]",
      "text/plain": [
       "<Figure size 864x576 with 1 Axes>"
      ]
     },
     "metadata": {
      "needs_background": "light"
     },
     "output_type": "display_data"
    }
   ],
   "source": [
    "pred = newmodel.predict(X_test)\n",
    "plt.figure(figsize=(12,8))\n",
    "plt.plot(y_test, color='blue', label='Real')\n",
    "plt.plot(pred, color='red', label='Prediction')\n",
    "plt.title('Litecoin Price Prediction')\n",
    "plt.legend()\n",
    "plt.show()"
   ]
  },
  {
   "cell_type": "code",
   "execution_count": 54,
   "metadata": {},
   "outputs": [
    {
     "name": "stdout",
     "output_type": "stream",
     "text": [
      "[[61.14523]]\n"
     ]
    },
    {
     "data": {
      "text/plain": [
       "array([61.14523], dtype=float32)"
      ]
     },
     "execution_count": 54,
     "metadata": {},
     "output_type": "execute_result"
    }
   ],
   "source": [
    "print(newmodel.predict(X_test[0].reshape(1,90,1)))\n",
    "pred[0]"
   ]
  },
  {
   "cell_type": "code",
   "execution_count": 56,
   "metadata": {},
   "outputs": [
    {
     "name": "stdout",
     "output_type": "stream",
     "text": [
      "Train on 1900 samples\n",
      "Epoch 1/30\n",
      "1900/1900 [==============================] - 8s 4ms/sample - loss: 1107.9046\n",
      "Epoch 2/30\n",
      "1900/1900 [==============================] - 8s 4ms/sample - loss: 1119.1915\n",
      "Epoch 3/30\n",
      "1900/1900 [==============================] - 8s 4ms/sample - loss: 1068.2798\n",
      "Epoch 4/30\n",
      "1900/1900 [==============================] - 8s 4ms/sample - loss: 1052.0102\n",
      "Epoch 5/30\n",
      "1900/1900 [==============================] - 8s 4ms/sample - loss: 1035.0426\n",
      "Epoch 6/30\n",
      "1900/1900 [==============================] - 8s 4ms/sample - loss: 1030.1625\n",
      "Epoch 7/30\n",
      "1900/1900 [==============================] - 8s 4ms/sample - loss: 992.7679\n",
      "Epoch 8/30\n",
      "1900/1900 [==============================] - 8s 4ms/sample - loss: 956.5810\n",
      "Epoch 9/30\n",
      "1900/1900 [==============================] - 8s 4ms/sample - loss: 932.2404\n",
      "Epoch 10/30\n",
      "1900/1900 [==============================] - 8s 4ms/sample - loss: 952.9279\n",
      "Epoch 11/30\n",
      "1900/1900 [==============================] - 8s 4ms/sample - loss: 932.3700\n",
      "Epoch 12/30\n",
      "1900/1900 [==============================] - 8s 4ms/sample - loss: 909.4858\n",
      "Epoch 13/30\n",
      "1900/1900 [==============================] - 8s 4ms/sample - loss: 873.8698\n",
      "Epoch 14/30\n",
      "1900/1900 [==============================] - 8s 4ms/sample - loss: 870.9221\n",
      "Epoch 15/30\n",
      "1900/1900 [==============================] - 8s 4ms/sample - loss: 868.0170\n",
      "Epoch 16/30\n",
      "1900/1900 [==============================] - 8s 4ms/sample - loss: 855.4207\n",
      "Epoch 17/30\n",
      "1900/1900 [==============================] - 8s 4ms/sample - loss: 844.8904\n",
      "Epoch 18/30\n",
      "1900/1900 [==============================] - 8s 4ms/sample - loss: 812.7623\n",
      "Epoch 19/30\n",
      "1900/1900 [==============================] - 8s 4ms/sample - loss: 784.4585\n",
      "Epoch 20/30\n",
      "1900/1900 [==============================] - 8s 4ms/sample - loss: 795.4796\n",
      "Epoch 21/30\n",
      "1900/1900 [==============================] - 8s 4ms/sample - loss: 756.9138\n",
      "Epoch 22/30\n",
      "1900/1900 [==============================] - 8s 4ms/sample - loss: 746.5567\n",
      "Epoch 23/30\n",
      "1900/1900 [==============================] - 8s 4ms/sample - loss: 735.3994\n",
      "Epoch 24/30\n",
      "1900/1900 [==============================] - 8s 4ms/sample - loss: 705.4594\n",
      "Epoch 25/30\n",
      "1900/1900 [==============================] - 8s 4ms/sample - loss: 678.6549\n",
      "Epoch 26/30\n",
      "1900/1900 [==============================] - 8s 4ms/sample - loss: 710.8864\n",
      "Epoch 27/30\n",
      "1900/1900 [==============================] - 8s 4ms/sample - loss: 670.5262\n",
      "Epoch 28/30\n",
      "1900/1900 [==============================] - 8s 4ms/sample - loss: 666.7527\n",
      "Epoch 29/30\n",
      "1900/1900 [==============================] - 8s 4ms/sample - loss: 658.0589\n",
      "Epoch 30/30\n",
      "1900/1900 [==============================] - 8s 4ms/sample - loss: 663.3602\n"
     ]
    }
   ],
   "source": [
    "history = newmodel.fit(X_train, y_train, epochs=30, batch_size=32)"
   ]
  },
  {
   "cell_type": "code",
   "execution_count": 64,
   "metadata": {},
   "outputs": [
    {
     "data": {
      "image/png": "[encoded data removed]",
      "text/plain": [
       "<Figure size 864x576 with 1 Axes>"
      ]
     },
     "metadata": {
      "needs_background": "light"
     },
     "output_type": "display_data"
    }
   ],
   "source": [
    "pred = newmodel.predict(X_test)\n",
    "plt.figure(figsize=(12,8))\n",
    "plt.plot(y_test, color='blue', label='Real',animated=1)\n",
    "plt.plot(pred, color='red', label='Prediction')\n",
    "plt.title('Litecoin Price Prediction')\n",
    "plt.legend()\n",
    "plt.show()"
   ]
  },
  {
   "cell_type": "code",
   "execution_count": 59,
   "metadata": {},
   "outputs": [],
   "source": [
    "newmodel.save(\"litecoin_uni.h5\")"
   ]
  },
  {
   "cell_type": "code",
   "execution_count": 34,
   "metadata": {},
   "outputs": [
    {
     "name": "stdout",
     "output_type": "stream",
     "text": [
      "Train on 1900 samples\n",
      "Epoch 1/30\n",
      "1900/1900 [==============================] - 9s 5ms/sample - loss: 563.0175\n",
      "Epoch 2/30\n",
      "1900/1900 [==============================] - 9s 5ms/sample - loss: 551.5250\n",
      "Epoch 3/30\n",
      "1900/1900 [==============================] - 9s 5ms/sample - loss: 539.2547\n",
      "Epoch 4/30\n",
      "1900/1900 [==============================] - 9s 5ms/sample - loss: 529.2934\n",
      "Epoch 5/30\n",
      "1900/1900 [==============================] - 9s 5ms/sample - loss: 519.0819\n",
      "Epoch 6/30\n",
      "1900/1900 [==============================] - 9s 5ms/sample - loss: 506.2815\n",
      "Epoch 7/30\n",
      "1900/1900 [==============================] - 9s 5ms/sample - loss: 496.3773\n",
      "Epoch 8/30\n",
      "1900/1900 [==============================] - 9s 5ms/sample - loss: 489.8674\n",
      "Epoch 9/30\n",
      "1900/1900 [==============================] - 9s 5ms/sample - loss: 481.0173\n",
      "Epoch 10/30\n",
      "1900/1900 [==============================] - 9s 5ms/sample - loss: 468.6851\n",
      "Epoch 11/30\n",
      "1900/1900 [==============================] - 9s 5ms/sample - loss: 460.2948\n",
      "Epoch 12/30\n",
      "1900/1900 [==============================] - 9s 5ms/sample - loss: 452.8686\n",
      "Epoch 13/30\n",
      "1900/1900 [==============================] - 10s 5ms/sample - loss: 443.6586\n",
      "Epoch 14/30\n",
      "1900/1900 [==============================] - 10s 5ms/sample - loss: 442.9310\n",
      "Epoch 15/30\n",
      "1900/1900 [==============================] - 10s 5ms/sample - loss: 431.0202\n",
      "Epoch 16/30\n",
      "1900/1900 [==============================] - 10s 5ms/sample - loss: 420.6806\n",
      "Epoch 17/30\n",
      "1900/1900 [==============================] - 10s 5ms/sample - loss: 411.7018\n",
      "Epoch 18/30\n",
      "1900/1900 [==============================] - 10s 5ms/sample - loss: 401.9296\n",
      "Epoch 19/30\n",
      "1900/1900 [==============================] - 10s 5ms/sample - loss: 394.4438\n",
      "Epoch 20/30\n",
      "1900/1900 [==============================] - 10s 5ms/sample - loss: 389.2830\n",
      "Epoch 21/30\n",
      "1900/1900 [==============================] - 9s 5ms/sample - loss: 381.0157\n",
      "Epoch 22/30\n",
      "1900/1900 [==============================] - 9s 5ms/sample - loss: 370.8516\n",
      "Epoch 23/30\n",
      "1900/1900 [==============================] - 9s 5ms/sample - loss: 367.8868\n",
      "Epoch 24/30\n",
      "1900/1900 [==============================] - 9s 5ms/sample - loss: 362.2015\n",
      "Epoch 25/30\n",
      "1900/1900 [==============================] - 9s 5ms/sample - loss: 351.6534\n",
      "Epoch 26/30\n",
      "1900/1900 [==============================] - 10s 5ms/sample - loss: 346.6954\n",
      "Epoch 27/30\n",
      "1900/1900 [==============================] - 10s 5ms/sample - loss: 345.5000\n",
      "Epoch 28/30\n",
      "1900/1900 [==============================] - 9s 5ms/sample - loss: 335.7684\n",
      "Epoch 29/30\n",
      "1900/1900 [==============================] - 9s 5ms/sample - loss: 328.8174\n",
      "Epoch 30/30\n",
      "1900/1900 [==============================] - 9s 5ms/sample - loss: 323.1929\n"
     ]
    }
   ],
   "source": [
    "history = model.fit(X_train, y_train, epochs=30, batch_size=32)"
   ]
  },
  {
   "cell_type": "code",
   "execution_count": 35,
   "metadata": {},
   "outputs": [
    {
     "data": {
      "image/png": "[encoded data removed]",
      "text/plain": [
       "<Figure size 864x576 with 1 Axes>"
      ]
     },
     "metadata": {
      "needs_background": "light"
     },
     "output_type": "display_data"
    }
   ],
   "source": [
    "pred = model.predict(X_test)\n",
    "plt.figure(figsize=(12,8))\n",
    "plt.plot(y_test, color='blue', label='Real')\n",
    "plt.plot(pred, color='red', label='Prediction')\n",
    "plt.title('Litecoin Price Prediction')\n",
    "plt.legend()\n",
    "plt.show()"
   ]
  },
  {
   "cell_type": "code",
   "execution_count": 21,
   "metadata": {},
   "outputs": [
    {
     "data": {
      "text/plain": [
       "(1900, 90, 1)"
      ]
     },
     "execution_count": 21,
     "metadata": {},
     "output_type": "execute_result"
    }
   ],
   "source": [
    "X_train.shape"
   ]
  },
  {
   "cell_type": "code",
   "execution_count": 22,
   "metadata": {},
   "outputs": [
    {
     "data": {
      "text/plain": [
       "numpy.float64"
      ]
     },
     "execution_count": 22,
     "metadata": {},
     "output_type": "execute_result"
    }
   ],
   "source": [
    "type(X_test[0,0,0])"
   ]
  },
  {
   "cell_type": "code",
   "execution_count": 23,
   "metadata": {},
   "outputs": [
    {
     "data": {
      "text/plain": [
       "(90, 1)"
      ]
     },
     "execution_count": 23,
     "metadata": {},
     "output_type": "execute_result"
    }
   ],
   "source": [
    "x_input=X_train[-1]\n",
    "#x_input = x_input.reshape((1, n_steps, n_features))\n",
    "x_input.shape"
   ]
  },
  {
   "cell_type": "code",
   "execution_count": 24,
   "metadata": {},
   "outputs": [],
   "source": [
    "def predictor(model,X_train,n):\n",
    "    x_input = X_train[-1]\n",
    "    n_steps=90\n",
    "    n_features=1\n",
    "    temp_input=list(x_input)\n",
    "    lst_output=[]\n",
    "    i=0\n",
    "    while(i<n):\n",
    "        if(len(temp_input)>90):\n",
    "            #print(\"new this\")\n",
    "            x_input=array(temp_input[1:])\n",
    "            print(\"{} day input {}\".format(i,x_input.shape))\n",
    "            #print(x_input)\n",
    "            x_input = x_input.reshape((1, n_steps, n_features))\n",
    "            print(x_input.shape)\n",
    "            #print(x_input)\n",
    "            x_input=np.asarray(x_input).astype(np.float64)\n",
    "            yhat = model.predict(x_input, verbose=0)\n",
    "            print(\"{} day output {}\".format(i,yhat))\n",
    "            temp_input.append(yhat[0][0])\n",
    "            temp_input=temp_input[1:]\n",
    "            #print(temp_input)\n",
    "            lst_output.append(yhat[0][0])\n",
    "            i=i+1\n",
    "            \n",
    "        else:\n",
    "            #print(\"inside else\")\n",
    "            x_input = x_input.reshape((1, n_steps, n_features))\n",
    "            print(x_input.shape)\n",
    "            yhat = model.predict(x_input, verbose=0)\n",
    "            print(yhat[0][0])\n",
    "            temp_input.append(yhat[0][0])\n",
    "            #print(len(temp_input))\n",
    "            lst_output.append(yhat[0][0])\n",
    "            i=i+1\n",
    "    return lst_output\n",
    "\n"
   ]
  },
  {
   "cell_type": "code",
   "execution_count": 41,
   "metadata": {},
   "outputs": [
    {
     "name": "stdout",
     "output_type": "stream",
     "text": [
      "91\n",
      "90\n",
      "[[59.920296]]\n",
      "t1 [[61.42668]]\n",
      "91\n",
      "90\n",
      "t2 [[62.965977]]\n",
      "91\n",
      "90\n",
      "[[63.201797]]\n",
      "91\n",
      "90\n",
      "[[63.22959]]\n"
     ]
    }
   ],
   "source": [
    "t=model.predict(X_train[-1].reshape(1,90,1))\n",
    "last_list=list(X_train[-1])\n",
    "#print(last_list[-1])\n",
    "last_list.append(t)\n",
    "\n",
    "print(len(last_list))\n",
    "last_list=last_list[1:92]\n",
    "print(len(last_list))\n",
    "print(last_list[-1])\n",
    "last_list=np.array(last_list)\n",
    "last_list=np.asarray(last_list).astype(np.float64)\n",
    "\n",
    "\n",
    "t1=model.predict(np.array(last_list).reshape(1,90,1))\n",
    "print(f\"t1 {t1}\")\n",
    "last_list=list(last_list)\n",
    "last_list.append(t1)\n",
    "print(len(last_list))\n",
    "last_list=last_list[1:91]\n",
    "print(len(last_list))\n",
    "last_list=np.array(last_list)\n",
    "last_list=np.asarray(last_list).astype(np.float64)\n",
    "\n",
    "\n",
    "t2=model.predict(np.array(last_list).reshape(1,90,1))\n",
    "print(f\"t2 {t2}\")\n",
    "last_list=list(last_list)\n",
    "last_list.append(t1)\n",
    "print(len(last_list))\n",
    "last_list=last_list[1:91]\n",
    "print(len(last_list))\n",
    "last_list=np.array(last_list)\n",
    "last_list=np.asarray(last_list).astype(np.float64)\n",
    "\n",
    "t3=model.predict(np.array(last_list).reshape(1,90,1))\n",
    "print(t3)\n",
    "\n",
    "last_list=list(last_list)\n",
    "last_list.append(t1)\n",
    "print(len(last_list))\n",
    "last_list=last_list[1:91]\n",
    "print(len(last_list))\n",
    "last_list=np.array(last_list)\n",
    "last_list=np.asarray(last_list).astype(np.float64)\n",
    "t4=model.predict(np.array(last_list).reshape(1,90,1))\n",
    "print(t4)"
   ]
  },
  {
   "cell_type": "code",
   "execution_count": 39,
   "metadata": {},
   "outputs": [
    {
     "data": {
      "text/plain": [
       "array([[59.70662]], dtype=float32)"
      ]
     },
     "execution_count": 39,
     "metadata": {},
     "output_type": "execute_result"
    }
   ],
   "source": [
    "model.predict(X_train[-2].reshape(1,90,1))"
   ]
  },
  {
   "cell_type": "code",
   "execution_count": 40,
   "metadata": {},
   "outputs": [
    {
     "name": "stdout",
     "output_type": "stream",
     "text": [
      "hello\n",
      "(1, 90, 1)\n",
      "59.920296\n",
      "new this\n",
      "1 day input (90,)\n",
      "(1, 90, 1)\n",
      "1 day output [[61.42668]]\n",
      "new this\n",
      "2 day input (90,)\n",
      "(1, 90, 1)\n",
      "2 day output [[62.965977]]\n",
      "new this\n",
      "3 day input (90,)\n",
      "(1, 90, 1)\n",
      "3 day output [[64.61049]]\n",
      "new this\n",
      "4 day input (90,)\n",
      "(1, 90, 1)\n",
      "4 day output [[66.39081]]\n",
      "new this\n",
      "5 day input (90,)\n",
      "(1, 90, 1)\n",
      "5 day output [[68.32108]]\n",
      "new this\n",
      "6 day input (90,)\n",
      "(1, 90, 1)\n",
      "6 day output [[70.42989]]\n",
      "new this\n",
      "7 day input (90,)\n",
      "(1, 90, 1)\n",
      "7 day output [[72.72298]]\n",
      "new this\n",
      "8 day input (90,)\n",
      "(1, 90, 1)\n",
      "8 day output [[75.15187]]\n",
      "new this\n",
      "9 day input (90,)\n",
      "(1, 90, 1)\n",
      "9 day output [[77.58099]]\n",
      "new this\n",
      "10 day input (90,)\n",
      "(1, 90, 1)\n",
      "10 day output [[79.820656]]\n",
      "new this\n",
      "11 day input (90,)\n",
      "(1, 90, 1)\n",
      "11 day output [[81.73518]]\n",
      "new this\n",
      "12 day input (90,)\n",
      "(1, 90, 1)\n",
      "12 day output [[83.29674]]\n",
      "new this\n",
      "13 day input (90,)\n",
      "(1, 90, 1)\n",
      "13 day output [[84.54535]]\n",
      "new this\n",
      "14 day input (90,)\n",
      "(1, 90, 1)\n",
      "14 day output [[85.527245]]\n",
      "new this\n",
      "15 day input (90,)\n",
      "(1, 90, 1)\n",
      "15 day output [[86.27254]]\n",
      "new this\n",
      "16 day input (90,)\n",
      "(1, 90, 1)\n",
      "16 day output [[86.79865]]\n",
      "new this\n",
      "17 day input (90,)\n",
      "(1, 90, 1)\n",
      "17 day output [[87.11601]]\n",
      "new this\n",
      "18 day input (90,)\n",
      "(1, 90, 1)\n",
      "18 day output [[87.23297]]\n",
      "new this\n",
      "19 day input (90,)\n",
      "(1, 90, 1)\n",
      "19 day output [[87.158005]]\n",
      "new this\n",
      "20 day input (90,)\n",
      "(1, 90, 1)\n",
      "20 day output [[86.90315]]\n",
      "new this\n",
      "21 day input (90,)\n",
      "(1, 90, 1)\n",
      "21 day output [[86.48902]]\n",
      "new this\n",
      "22 day input (90,)\n",
      "(1, 90, 1)\n",
      "22 day output [[85.94901]]\n",
      "new this\n",
      "23 day input (90,)\n",
      "(1, 90, 1)\n",
      "23 day output [[85.32934]]\n",
      "new this\n",
      "24 day input (90,)\n",
      "(1, 90, 1)\n",
      "24 day output [[84.68351]]\n",
      "new this\n",
      "25 day input (90,)\n",
      "(1, 90, 1)\n",
      "25 day output [[84.06314]]\n",
      "new this\n",
      "26 day input (90,)\n",
      "(1, 90, 1)\n",
      "26 day output [[83.5111]]\n",
      "new this\n",
      "27 day input (90,)\n",
      "(1, 90, 1)\n",
      "27 day output [[83.05955]]\n",
      "new this\n",
      "28 day input (90,)\n",
      "(1, 90, 1)\n",
      "28 day output [[82.72779]]\n",
      "new this\n",
      "29 day input (90,)\n",
      "(1, 90, 1)\n",
      "29 day output [[82.52169]]\n",
      "new this\n",
      "30 day input (90,)\n",
      "(1, 90, 1)\n",
      "30 day output [[82.434975]]\n",
      "new this\n",
      "31 day input (90,)\n",
      "(1, 90, 1)\n",
      "31 day output [[82.45241]]\n",
      "new this\n",
      "32 day input (90,)\n",
      "(1, 90, 1)\n",
      "32 day output [[82.55436]]\n",
      "new this\n",
      "33 day input (90,)\n",
      "(1, 90, 1)\n",
      "33 day output [[82.71898]]\n",
      "new this\n",
      "34 day input (90,)\n",
      "(1, 90, 1)\n",
      "34 day output [[82.924904]]\n",
      "new this\n",
      "35 day input (90,)\n",
      "(1, 90, 1)\n",
      "35 day output [[83.153305]]\n",
      "new this\n",
      "36 day input (90,)\n",
      "(1, 90, 1)\n",
      "36 day output [[83.38771]]\n",
      "new this\n",
      "37 day input (90,)\n",
      "(1, 90, 1)\n",
      "37 day output [[83.61415]]\n",
      "new this\n",
      "38 day input (90,)\n",
      "(1, 90, 1)\n",
      "38 day output [[83.82123]]\n",
      "new this\n",
      "39 day input (90,)\n",
      "(1, 90, 1)\n",
      "39 day output [[84.000275]]\n",
      "new this\n",
      "40 day input (90,)\n",
      "(1, 90, 1)\n",
      "40 day output [[84.14643]]\n",
      "new this\n",
      "41 day input (90,)\n",
      "(1, 90, 1)\n",
      "41 day output [[84.25628]]\n",
      "new this\n",
      "42 day input (90,)\n",
      "(1, 90, 1)\n",
      "42 day output [[84.32956]]\n",
      "new this\n",
      "43 day input (90,)\n",
      "(1, 90, 1)\n",
      "43 day output [[84.36644]]\n",
      "new this\n",
      "44 day input (90,)\n",
      "(1, 90, 1)\n",
      "44 day output [[84.37024]]\n",
      "new this\n",
      "45 day input (90,)\n",
      "(1, 90, 1)\n",
      "45 day output [[84.344894]]\n",
      "new this\n",
      "46 day input (90,)\n",
      "(1, 90, 1)\n",
      "46 day output [[84.29602]]\n",
      "new this\n",
      "47 day input (90,)\n",
      "(1, 90, 1)\n",
      "47 day output [[84.22987]]\n",
      "new this\n",
      "48 day input (90,)\n",
      "(1, 90, 1)\n",
      "48 day output [[84.15314]]\n",
      "new this\n",
      "49 day input (90,)\n",
      "(1, 90, 1)\n",
      "49 day output [[84.07175]]\n"
     ]
    }
   ],
   "source": [
    "output=predictor(model,X_train,50)"
   ]
  },
  {
   "cell_type": "code",
   "execution_count": 28,
   "metadata": {},
   "outputs": [
    {
     "name": "stdout",
     "output_type": "stream",
     "text": [
      "[[60.9984  ]\n",
      " [60.63045 ]\n",
      " [60.03493 ]\n",
      " [55.88808 ]\n",
      " [56.279728]\n",
      " [56.45546 ]\n",
      " [55.69368 ]\n",
      " [57.53194 ]\n",
      " [57.27022 ]\n",
      " [56.939625]\n",
      " [56.179382]\n",
      " [56.389267]\n",
      " [56.70289 ]\n",
      " [56.45378 ]\n",
      " [55.940723]\n",
      " [56.121147]\n",
      " [56.162746]\n",
      " [55.971783]\n",
      " [55.872665]\n",
      " [55.757492]\n",
      " [55.759396]\n",
      " [53.881622]\n",
      " [53.66225 ]\n",
      " [53.87353 ]\n",
      " [54.49439 ]\n",
      " [55.387756]\n",
      " [55.22521 ]\n",
      " [57.235607]\n",
      " [57.372246]\n",
      " [59.221195]\n",
      " [57.999817]\n",
      " [56.335636]\n",
      " [55.689133]\n",
      " [55.95689 ]\n",
      " [55.294876]\n",
      " [54.725677]\n",
      " [54.056744]\n",
      " [50.292603]\n",
      " [49.814053]\n",
      " [48.882183]\n",
      " [48.379585]\n",
      " [48.792267]\n",
      " [44.82762 ]\n",
      " [41.927307]\n",
      " [44.127495]\n",
      " [41.67182 ]\n",
      " [41.38704 ]\n",
      " [38.815445]\n",
      " [39.995346]\n",
      " [37.36772 ]]\n"
     ]
    }
   ],
   "source": [
    "pred=model.predict(X_test[:50,:].reshape(50,90,1))\n",
    "print(pred)"
   ]
  },
  {
   "cell_type": "code",
   "execution_count": 29,
   "metadata": {},
   "outputs": [
    {
     "data": {
      "text/plain": [
       "59.920296"
      ]
     },
     "execution_count": 29,
     "metadata": {},
     "output_type": "execute_result"
    }
   ],
   "source": [
    "output=np.array(output)\n",
    "output[0]"
   ]
  },
  {
   "cell_type": "code",
   "execution_count": 30,
   "metadata": {},
   "outputs": [
    {
     "data": {
      "text/plain": [
       "(1952, 90)"
      ]
     },
     "execution_count": 30,
     "metadata": {},
     "output_type": "execute_result"
    }
   ],
   "source": [
    "X.shape"
   ]
  },
  {
   "cell_type": "code",
   "execution_count": 31,
   "metadata": {},
   "outputs": [
    {
     "data": {
      "text/plain": [
       "[<matplotlib.lines.Line2D at 0x2a52d0a17b8>]"
      ]
     },
     "execution_count": 31,
     "metadata": {},
     "output_type": "execute_result"
    },
    {
     "data": {
      "image/png": "[encoded data removed]",
      "text/plain": [
       "<Figure size 432x288 with 1 Axes>"
      ]
     },
     "metadata": {
      "needs_background": "light"
     },
     "output_type": "display_data"
    }
   ],
   "source": [
    "plt.plot(np.arange(100),y_train[1800:])\n",
    "plt.plot(np.arange(100,150),output)\n",
    "plt.plot(np.arange(100,150),y_test[:50])\n",
    "plt.plot(np.arange(100,150),pred[:50])"
   ]
  },
  {
   "cell_type": "code",
   "execution_count": 37,
   "metadata": {},
   "outputs": [
    {
     "data": {
      "text/plain": [
       "array([[60.998405]], dtype=float32)"
      ]
     },
     "execution_count": 37,
     "metadata": {},
     "output_type": "execute_result"
    }
   ],
   "source": [
    "model.predict(X_test[0].reshape(1,90,1))"
   ]
  },
  {
   "cell_type": "code",
   "execution_count": null,
   "metadata": {},
   "outputs": [],
   "source": []
  }
 ],
 "metadata": {
  "kernelspec": {
   "display_name": "Python 3.7.3 64-bit",
   "language": "python",
   "name": "python37364bit78a5b1014c8445a38f92a69ee113ef9d"
  },
  "language_info": {
   "codemirror_mode": {
    "name": "ipython",
    "version": 3
   },
   "file_extension": ".py",
   "mimetype": "text/x-python",
   "name": "python",
   "nbconvert_exporter": "python",
   "pygments_lexer": "ipython3",
   "version": "3.7.3"
  }
 },
 "nbformat": 4,
 "nbformat_minor": 4
}
