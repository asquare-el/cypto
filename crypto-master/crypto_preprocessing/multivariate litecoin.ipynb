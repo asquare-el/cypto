{
 "cells": [
  {
   "cell_type": "code",
   "execution_count": 1,
   "metadata": {},
   "outputs": [],
   "source": [
    "import numpy as np\n",
    "import pandas as pd\n",
    "import matplotlib.pyplot as plt\n",
    "import seaborn as sns\n",
    "sns.set(style=\"darkgrid\", font_scale=1.5)\n",
    "%matplotlib inline\n",
    "import tensorflow as tf\n",
    "from tensorflow.keras import layers\n",
    "from tensorflow.keras import Sequential\n",
    "from tensorflow.keras.layers import Dense, LSTM\n",
    "from sklearn.metrics import mean_squared_error"
   ]
  },
  {
   "cell_type": "code",
   "execution_count": 2,
   "metadata": {},
   "outputs": [
    {
     "data": {
      "text/plain": [
       "(942297, 12)"
      ]
     },
     "execution_count": 2,
     "metadata": {},
     "output_type": "execute_result"
    }
   ],
   "source": [
    "df = pd.read_csv(\"C:\\\\Users\\\\arjun\\\\Desktop\\\\allprices\\\\crypto-markets.csv\", parse_dates=[\"date\"], index_col=\"date\")\n",
    "df.shape"
   ]
  },
  {
   "cell_type": "code",
   "execution_count": 3,
   "metadata": {},
   "outputs": [
    {
     "data": {
      "text/html": [
       "<div>\n",
       "<style scoped>\n",
       "    .dataframe tbody tr th:only-of-type {\n",
       "        vertical-align: middle;\n",
       "    }\n",
       "\n",
       "    .dataframe tbody tr th {\n",
       "        vertical-align: top;\n",
       "    }\n",
       "\n",
       "    .dataframe thead th {\n",
       "        text-align: right;\n",
       "    }\n",
       "</style>\n",
       "<table border=\"1\" class=\"dataframe\">\n",
       "  <thead>\n",
       "    <tr style=\"text-align: right;\">\n",
       "      <th></th>\n",
       "      <th>slug</th>\n",
       "      <th>symbol</th>\n",
       "      <th>name</th>\n",
       "      <th>ranknow</th>\n",
       "      <th>open</th>\n",
       "      <th>high</th>\n",
       "      <th>low</th>\n",
       "      <th>close</th>\n",
       "      <th>volume</th>\n",
       "      <th>market</th>\n",
       "      <th>close_ratio</th>\n",
       "      <th>spread</th>\n",
       "    </tr>\n",
       "    <tr>\n",
       "      <th>date</th>\n",
       "      <th></th>\n",
       "      <th></th>\n",
       "      <th></th>\n",
       "      <th></th>\n",
       "      <th></th>\n",
       "      <th></th>\n",
       "      <th></th>\n",
       "      <th></th>\n",
       "      <th></th>\n",
       "      <th></th>\n",
       "      <th></th>\n",
       "      <th></th>\n",
       "    </tr>\n",
       "  </thead>\n",
       "  <tbody>\n",
       "    <tr>\n",
       "      <th>2013-04-28</th>\n",
       "      <td>bitcoin</td>\n",
       "      <td>BTC</td>\n",
       "      <td>Bitcoin</td>\n",
       "      <td>1</td>\n",
       "      <td>135.30</td>\n",
       "      <td>135.98</td>\n",
       "      <td>132.10</td>\n",
       "      <td>134.21</td>\n",
       "      <td>0.0</td>\n",
       "      <td>1.488567e+09</td>\n",
       "      <td>0.5438</td>\n",
       "      <td>3.88</td>\n",
       "    </tr>\n",
       "    <tr>\n",
       "      <th>2013-04-29</th>\n",
       "      <td>bitcoin</td>\n",
       "      <td>BTC</td>\n",
       "      <td>Bitcoin</td>\n",
       "      <td>1</td>\n",
       "      <td>134.44</td>\n",
       "      <td>147.49</td>\n",
       "      <td>134.00</td>\n",
       "      <td>144.54</td>\n",
       "      <td>0.0</td>\n",
       "      <td>1.603769e+09</td>\n",
       "      <td>0.7813</td>\n",
       "      <td>13.49</td>\n",
       "    </tr>\n",
       "    <tr>\n",
       "      <th>2013-04-30</th>\n",
       "      <td>bitcoin</td>\n",
       "      <td>BTC</td>\n",
       "      <td>Bitcoin</td>\n",
       "      <td>1</td>\n",
       "      <td>144.00</td>\n",
       "      <td>146.93</td>\n",
       "      <td>134.05</td>\n",
       "      <td>139.00</td>\n",
       "      <td>0.0</td>\n",
       "      <td>1.542813e+09</td>\n",
       "      <td>0.3843</td>\n",
       "      <td>12.88</td>\n",
       "    </tr>\n",
       "    <tr>\n",
       "      <th>2013-05-01</th>\n",
       "      <td>bitcoin</td>\n",
       "      <td>BTC</td>\n",
       "      <td>Bitcoin</td>\n",
       "      <td>1</td>\n",
       "      <td>139.00</td>\n",
       "      <td>139.89</td>\n",
       "      <td>107.72</td>\n",
       "      <td>116.99</td>\n",
       "      <td>0.0</td>\n",
       "      <td>1.298955e+09</td>\n",
       "      <td>0.2882</td>\n",
       "      <td>32.17</td>\n",
       "    </tr>\n",
       "    <tr>\n",
       "      <th>2013-05-02</th>\n",
       "      <td>bitcoin</td>\n",
       "      <td>BTC</td>\n",
       "      <td>Bitcoin</td>\n",
       "      <td>1</td>\n",
       "      <td>116.38</td>\n",
       "      <td>125.60</td>\n",
       "      <td>92.28</td>\n",
       "      <td>105.21</td>\n",
       "      <td>0.0</td>\n",
       "      <td>1.168517e+09</td>\n",
       "      <td>0.3881</td>\n",
       "      <td>33.32</td>\n",
       "    </tr>\n",
       "  </tbody>\n",
       "</table>\n",
       "</div>"
      ],
      "text/plain": [
       "               slug symbol     name  ranknow    open    high     low   close  \\\n",
       "date                                                                           \n",
       "2013-04-28  bitcoin    BTC  Bitcoin        1  135.30  135.98  132.10  134.21   \n",
       "2013-04-29  bitcoin    BTC  Bitcoin        1  134.44  147.49  134.00  144.54   \n",
       "2013-04-30  bitcoin    BTC  Bitcoin        1  144.00  146.93  134.05  139.00   \n",
       "2013-05-01  bitcoin    BTC  Bitcoin        1  139.00  139.89  107.72  116.99   \n",
       "2013-05-02  bitcoin    BTC  Bitcoin        1  116.38  125.60   92.28  105.21   \n",
       "\n",
       "            volume        market  close_ratio  spread  \n",
       "date                                                   \n",
       "2013-04-28     0.0  1.488567e+09       0.5438    3.88  \n",
       "2013-04-29     0.0  1.603769e+09       0.7813   13.49  \n",
       "2013-04-30     0.0  1.542813e+09       0.3843   12.88  \n",
       "2013-05-01     0.0  1.298955e+09       0.2882   32.17  \n",
       "2013-05-02     0.0  1.168517e+09       0.3881   33.32  "
      ]
     },
     "execution_count": 3,
     "metadata": {},
     "output_type": "execute_result"
    }
   ],
   "source": [
    "df.head()"
   ]
  },
  {
   "cell_type": "code",
   "execution_count": 4,
   "metadata": {},
   "outputs": [],
   "source": [
    "df = df[df.slug == \"litecoin\"][['open','high']]"
   ]
  },
  {
   "cell_type": "code",
   "execution_count": 5,
   "metadata": {},
   "outputs": [
    {
     "data": {
      "text/plain": [
       "(2042, 2)"
      ]
     },
     "execution_count": 5,
     "metadata": {},
     "output_type": "execute_result"
    }
   ],
   "source": [
    "df.shape"
   ]
  },
  {
   "cell_type": "code",
   "execution_count": 6,
   "metadata": {},
   "outputs": [
    {
     "name": "stderr",
     "output_type": "stream",
     "text": [
      "C:\\Python\\Python37-32\\lib\\site-packages\\pandas\\plotting\\_converter.py:129: FutureWarning: Using an implicitly registered datetime converter for a matplotlib plotting method. The converter was registered by pandas on import. Future versions of pandas will require you to explicitly register matplotlib converters.\n",
      "\n",
      "To register the converters:\n",
      "\t>>> from pandas.plotting import register_matplotlib_converters\n",
      "\t>>> register_matplotlib_converters()\n",
      "  warnings.warn(msg, FutureWarning)\n"
     ]
    },
    {
     "data": {
      "text/plain": [
       "Text(0.5, 1.0, 'Price of Litecoin')"
      ]
     },
     "execution_count": 6,
     "metadata": {},
     "output_type": "execute_result"
    },
    {
     "data": {
      "image/png": "[encoded data removed]",
      "text/plain": [
       "<Figure size 864x432 with 1 Axes>"
      ]
     },
     "metadata": {
      "needs_background": "light"
     },
     "output_type": "display_data"
    }
   ],
   "source": [
    "plt.figure(figsize=(12,6))\n",
    "sns.lineplot(x=df.index, y=\"open\", data=df).set_title(\"Price of Litecoin\")"
   ]
  },
  {
   "cell_type": "code",
   "execution_count": 7,
   "metadata": {},
   "outputs": [
    {
     "data": {
      "text/plain": [
       "Text(0.5, 0.9, 'Down-sampled to 10-day periods')"
      ]
     },
     "execution_count": 7,
     "metadata": {},
     "output_type": "execute_result"
    },
    {
     "data": {
      "image/png": "[encoded data removed]",
      "text/plain": [
       "<Figure size 864x432 with 1 Axes>"
      ]
     },
     "metadata": {
      "needs_background": "light"
     },
     "output_type": "display_data"
    }
   ],
   "source": [
    "df.resample('10D').mean().plot(figsize=(12,6))\n",
    "plt.figtext(.5,0.9,\"Down-sampled to 10-day periods\", fontsize=20, ha='center')"
   ]
  },
  {
   "cell_type": "code",
   "execution_count": 8,
   "metadata": {},
   "outputs": [],
   "source": [
    "\n",
    "data = df.iloc[:, 0:2]\n",
    "hist = []\n",
    "target = []\n",
    "length = 90\n",
    "for i in range(len(data)-length):\n",
    "    x = data[i:i+length]\n",
    "    y = data.iloc[i+length,0]\n",
    "    hist.append(x)\n",
    "    target.append(y)\n",
    "\n",
    "\n"
   ]
  },
  {
   "cell_type": "code",
   "execution_count": 9,
   "metadata": {},
   "outputs": [],
   "source": [
    "data=df.iloc[:,0:2]"
   ]
  },
  {
   "cell_type": "code",
   "execution_count": 10,
   "metadata": {},
   "outputs": [],
   "source": [
    "input_data=data.values"
   ]
  },
  {
   "cell_type": "code",
   "execution_count": 11,
   "metadata": {},
   "outputs": [],
   "source": [
    "\n",
    "data=df.iloc[:,0:2]\n",
    "X=[]\n",
    "y=[]\n",
    "for i in range(len(data)-90-1):\n",
    "    t=[]\n",
    "    for j in range(0,90):\n",
    "        t.append(input_data[[i+j],:])\n",
    "    X.append(t)\n",
    "    y.append(input_data[i+90,0])"
   ]
  },
  {
   "cell_type": "code",
   "execution_count": 12,
   "metadata": {},
   "outputs": [],
   "source": [
    "X=np.array(X)\n",
    "y=np.array(y)"
   ]
  },
  {
   "cell_type": "code",
   "execution_count": 33,
   "metadata": {},
   "outputs": [
    {
     "name": "stdout",
     "output_type": "stream",
     "text": [
      "(1951, 90, 2)\n",
      "(2042, 2)\n",
      "(1951,)\n"
     ]
    }
   ],
   "source": [
    "print(X.shape)\n",
    "print(input_data.shape)\n",
    "print(y.shape)"
   ]
  },
  {
   "cell_type": "code",
   "execution_count": 14,
   "metadata": {},
   "outputs": [
    {
     "name": "stdout",
     "output_type": "stream",
     "text": [
      "(702, 90, 1, 2)\n"
     ]
    }
   ],
   "source": [
    "test_size=int(.3*len(input_data))\n",
    "X_test=X[:test_size+90]\n",
    "print(X_test.shape)"
   ]
  },
  {
   "cell_type": "code",
   "execution_count": 36,
   "metadata": {},
   "outputs": [],
   "source": [
    "x_train1=X[:1900]\n",
    "y_train1=y[:1900]"
   ]
  },
  {
   "cell_type": "code",
   "execution_count": 37,
   "metadata": {},
   "outputs": [],
   "source": [
    "x_test1=X[1900:]\n",
    "y_test1=y[1900:]"
   ]
  },
  {
   "cell_type": "code",
   "execution_count": 38,
   "metadata": {},
   "outputs": [
    {
     "data": {
      "text/plain": [
       "612.6"
      ]
     },
     "execution_count": 38,
     "metadata": {},
     "output_type": "execute_result"
    }
   ],
   "source": [
    "len(input_data)*0.3"
   ]
  },
  {
   "cell_type": "code",
   "execution_count": 39,
   "metadata": {},
   "outputs": [],
   "source": [
    "X=X.reshape(X.shape[0],90,2)"
   ]
  },
  {
   "cell_type": "code",
   "execution_count": 40,
   "metadata": {},
   "outputs": [],
   "source": [
    "X_test=X_test.reshape(X_test.shape[0],90,2)\n",
    "x_test1=x_test1.reshape(x_test1.shape[0],90,2)"
   ]
  },
  {
   "cell_type": "code",
   "execution_count": 41,
   "metadata": {},
   "outputs": [
    {
     "name": "stdout",
     "output_type": "stream",
     "text": [
      "(1951, 90, 2)\n",
      "(702, 90, 2)\n",
      "<class 'numpy.ndarray'>\n",
      "#############################\n",
      "(1900, 90, 2)\n",
      "(51, 90, 2)\n"
     ]
    }
   ],
   "source": [
    "print(X.shape)\n",
    "print(X_test.shape)\n",
    "print(type(X_test))\n",
    "print(\"#############################\")\n",
    "#see this x_train1,x_test1\n",
    "print(x_train1.shape)\n",
    "print(x_test1.shape)"
   ]
  },
  {
   "cell_type": "code",
   "execution_count": 48,
   "metadata": {},
   "outputs": [
    {
     "name": "stdout",
     "output_type": "stream",
     "text": [
      "shape of y_test (702, 1)\n",
      "shape of y_test1 (51, 1)\n"
     ]
    }
   ],
   "source": [
    "x_test1\n",
    "print(f\"shape of y_test {y_test.shape}\\nshape of y_test1 {y_test1.shape}\")"
   ]
  },
  {
   "cell_type": "code",
   "execution_count": 47,
   "metadata": {},
   "outputs": [],
   "source": [
    "y_test1=y_test1.reshape(-1,1)"
   ]
  },
  {
   "cell_type": "code",
   "execution_count": 21,
   "metadata": {},
   "outputs": [
    {
     "ename": "AttributeError",
     "evalue": "'numpy.ndarray' object has no attribute 'va'",
     "output_type": "error",
     "traceback": [
      "\u001b[1;31m---------------------------------------------------------------------------\u001b[0m",
      "\u001b[1;31mAttributeError\u001b[0m                            Traceback (most recent call last)",
      "\u001b[1;32m<ipython-input-21-81e28ef797d3>\u001b[0m in \u001b[0;36m<module>\u001b[1;34m\u001b[0m\n\u001b[0;32m      1\u001b[0m \u001b[0my_test\u001b[0m\u001b[1;33m=\u001b[0m\u001b[0mX_test\u001b[0m\u001b[1;33m[\u001b[0m\u001b[1;33m:\u001b[0m\u001b[1;33m,\u001b[0m\u001b[1;36m0\u001b[0m\u001b[1;33m,\u001b[0m\u001b[1;36m0\u001b[0m\u001b[1;33m]\u001b[0m\u001b[1;33m\u001b[0m\u001b[1;33m\u001b[0m\u001b[0m\n\u001b[0;32m      2\u001b[0m \u001b[0my_test\u001b[0m\u001b[1;33m=\u001b[0m\u001b[0my_test\u001b[0m\u001b[1;33m.\u001b[0m\u001b[0mreshape\u001b[0m\u001b[1;33m(\u001b[0m\u001b[1;36m702\u001b[0m\u001b[1;33m,\u001b[0m\u001b[1;36m1\u001b[0m\u001b[1;33m)\u001b[0m\u001b[1;33m\u001b[0m\u001b[1;33m\u001b[0m\u001b[0m\n\u001b[1;32m----> 3\u001b[1;33m \u001b[0my_test\u001b[0m\u001b[1;33m=\u001b[0m\u001b[0my_test\u001b[0m\u001b[1;33m.\u001b[0m\u001b[0mva\u001b[0m\u001b[1;33m\u001b[0m\u001b[1;33m\u001b[0m\u001b[0m\n\u001b[0m",
      "\u001b[1;31mAttributeError\u001b[0m: 'numpy.ndarray' object has no attribute 'va'"
     ]
    }
   ],
   "source": [
    "y_test=X_test[:,0,0]\n",
    "y_test=y_test.reshape(702,1)\n",
    "#y_test=y_test.va\n"
   ]
  },
  {
   "cell_type": "code",
   "execution_count": 49,
   "metadata": {},
   "outputs": [
    {
     "data": {
      "text/plain": [
       "(702, 1)"
      ]
     },
     "execution_count": 49,
     "metadata": {},
     "output_type": "execute_result"
    }
   ],
   "source": [
    "\n",
    "y_test.shape"
   ]
  },
  {
   "cell_type": "code",
   "execution_count": null,
   "metadata": {},
   "outputs": [],
   "source": [
    "mean_squared_error(pred,y_test)"
   ]
  },
  {
   "cell_type": "code",
   "execution_count": null,
   "metadata": {},
   "outputs": [],
   "source": []
  },
  {
   "cell_type": "code",
   "execution_count": null,
   "metadata": {},
   "outputs": [],
   "source": [
    "model = Sequential()\n",
    "model.add(LSTM(units=30, return_sequences= True, input_shape=(X.shape[1],2)))\n",
    "model.add(LSTM(units=30, return_sequences=True))\n",
    "model.add(LSTM(units=30))\n",
    "model.add(Dense(units=1))\n",
    "model.summary()"
   ]
  },
  {
   "cell_type": "code",
   "execution_count": null,
   "metadata": {},
   "outputs": [],
   "source": [
    "plt.plot(np.arange(1,703),pred)\n",
    "plt.plot(np.arange(1,703),X_test[])"
   ]
  },
  {
   "cell_type": "code",
   "execution_count": null,
   "metadata": {},
   "outputs": [],
   "source": [
    "model.compile(optimizer='adam', loss='mean_squared_error')"
   ]
  },
  {
   "cell_type": "code",
   "execution_count": 20,
   "metadata": {},
   "outputs": [
    {
     "name": "stdout",
     "output_type": "stream",
     "text": [
      "Train on 1951 samples\n",
      "Epoch 1/30\n",
      " 864/1951 [============>.................] - ETA: 30s - loss: 3110.0035"
     ]
    },
    {
     "ename": "KeyboardInterrupt",
     "evalue": "",
     "output_type": "error",
     "traceback": [
      "\u001b[1;31m---------------------------------------------------------------------------\u001b[0m",
      "\u001b[1;31mKeyboardInterrupt\u001b[0m                         Traceback (most recent call last)",
      "\u001b[1;32m<ipython-input-20-b9c01d577cbf>\u001b[0m in \u001b[0;36m<module>\u001b[1;34m\u001b[0m\n\u001b[1;32m----> 1\u001b[1;33m \u001b[0mmodel\u001b[0m\u001b[1;33m.\u001b[0m\u001b[0mfit\u001b[0m\u001b[1;33m(\u001b[0m\u001b[0mX\u001b[0m\u001b[1;33m,\u001b[0m \u001b[0my\u001b[0m\u001b[1;33m,\u001b[0m \u001b[0mepochs\u001b[0m\u001b[1;33m=\u001b[0m\u001b[1;36m30\u001b[0m\u001b[1;33m,\u001b[0m \u001b[0mbatch_size\u001b[0m\u001b[1;33m=\u001b[0m\u001b[1;36m32\u001b[0m\u001b[1;33m)\u001b[0m\u001b[1;33m\u001b[0m\u001b[1;33m\u001b[0m\u001b[0m\n\u001b[0m",
      "\u001b[1;32mC:\\Python\\Python37-32\\lib\\site-packages\\tensorflow_core\\python\\keras\\engine\\training.py\u001b[0m in \u001b[0;36mfit\u001b[1;34m(self, x, y, batch_size, epochs, verbose, callbacks, validation_split, validation_data, shuffle, class_weight, sample_weight, initial_epoch, steps_per_epoch, validation_steps, validation_freq, max_queue_size, workers, use_multiprocessing, **kwargs)\u001b[0m\n\u001b[0;32m    726\u001b[0m         \u001b[0mmax_queue_size\u001b[0m\u001b[1;33m=\u001b[0m\u001b[0mmax_queue_size\u001b[0m\u001b[1;33m,\u001b[0m\u001b[1;33m\u001b[0m\u001b[1;33m\u001b[0m\u001b[0m\n\u001b[0;32m    727\u001b[0m         \u001b[0mworkers\u001b[0m\u001b[1;33m=\u001b[0m\u001b[0mworkers\u001b[0m\u001b[1;33m,\u001b[0m\u001b[1;33m\u001b[0m\u001b[1;33m\u001b[0m\u001b[0m\n\u001b[1;32m--> 728\u001b[1;33m         use_multiprocessing=use_multiprocessing)\n\u001b[0m\u001b[0;32m    729\u001b[0m \u001b[1;33m\u001b[0m\u001b[0m\n\u001b[0;32m    730\u001b[0m   def evaluate(self,\n",
      "\u001b[1;32mC:\\Python\\Python37-32\\lib\\site-packages\\tensorflow_core\\python\\keras\\engine\\training_v2.py\u001b[0m in \u001b[0;36mfit\u001b[1;34m(self, model, x, y, batch_size, epochs, verbose, callbacks, validation_split, validation_data, shuffle, class_weight, sample_weight, initial_epoch, steps_per_epoch, validation_steps, validation_freq, **kwargs)\u001b[0m\n\u001b[0;32m    322\u001b[0m                 \u001b[0mmode\u001b[0m\u001b[1;33m=\u001b[0m\u001b[0mModeKeys\u001b[0m\u001b[1;33m.\u001b[0m\u001b[0mTRAIN\u001b[0m\u001b[1;33m,\u001b[0m\u001b[1;33m\u001b[0m\u001b[1;33m\u001b[0m\u001b[0m\n\u001b[0;32m    323\u001b[0m                 \u001b[0mtraining_context\u001b[0m\u001b[1;33m=\u001b[0m\u001b[0mtraining_context\u001b[0m\u001b[1;33m,\u001b[0m\u001b[1;33m\u001b[0m\u001b[1;33m\u001b[0m\u001b[0m\n\u001b[1;32m--> 324\u001b[1;33m                 total_epochs=epochs)\n\u001b[0m\u001b[0;32m    325\u001b[0m             \u001b[0mcbks\u001b[0m\u001b[1;33m.\u001b[0m\u001b[0mmake_logs\u001b[0m\u001b[1;33m(\u001b[0m\u001b[0mmodel\u001b[0m\u001b[1;33m,\u001b[0m \u001b[0mepoch_logs\u001b[0m\u001b[1;33m,\u001b[0m \u001b[0mtraining_result\u001b[0m\u001b[1;33m,\u001b[0m \u001b[0mModeKeys\u001b[0m\u001b[1;33m.\u001b[0m\u001b[0mTRAIN\u001b[0m\u001b[1;33m)\u001b[0m\u001b[1;33m\u001b[0m\u001b[1;33m\u001b[0m\u001b[0m\n\u001b[0;32m    326\u001b[0m \u001b[1;33m\u001b[0m\u001b[0m\n",
      "\u001b[1;32mC:\\Python\\Python37-32\\lib\\site-packages\\tensorflow_core\\python\\keras\\engine\\training_v2.py\u001b[0m in \u001b[0;36mrun_one_epoch\u001b[1;34m(model, iterator, execution_function, dataset_size, batch_size, strategy, steps_per_epoch, num_samples, mode, training_context, total_epochs)\u001b[0m\n\u001b[0;32m    121\u001b[0m         step=step, mode=mode, size=current_batch_size) as batch_logs:\n\u001b[0;32m    122\u001b[0m       \u001b[1;32mtry\u001b[0m\u001b[1;33m:\u001b[0m\u001b[1;33m\u001b[0m\u001b[1;33m\u001b[0m\u001b[0m\n\u001b[1;32m--> 123\u001b[1;33m         \u001b[0mbatch_outs\u001b[0m \u001b[1;33m=\u001b[0m \u001b[0mexecution_function\u001b[0m\u001b[1;33m(\u001b[0m\u001b[0miterator\u001b[0m\u001b[1;33m)\u001b[0m\u001b[1;33m\u001b[0m\u001b[1;33m\u001b[0m\u001b[0m\n\u001b[0m\u001b[0;32m    124\u001b[0m       \u001b[1;32mexcept\u001b[0m \u001b[1;33m(\u001b[0m\u001b[0mStopIteration\u001b[0m\u001b[1;33m,\u001b[0m \u001b[0merrors\u001b[0m\u001b[1;33m.\u001b[0m\u001b[0mOutOfRangeError\u001b[0m\u001b[1;33m)\u001b[0m\u001b[1;33m:\u001b[0m\u001b[1;33m\u001b[0m\u001b[1;33m\u001b[0m\u001b[0m\n\u001b[0;32m    125\u001b[0m         \u001b[1;31m# TODO(kaftan): File bug about tf function and errors.OutOfRangeError?\u001b[0m\u001b[1;33m\u001b[0m\u001b[1;33m\u001b[0m\u001b[1;33m\u001b[0m\u001b[0m\n",
      "\u001b[1;32mC:\\Python\\Python37-32\\lib\\site-packages\\tensorflow_core\\python\\keras\\engine\\training_v2_utils.py\u001b[0m in \u001b[0;36mexecution_function\u001b[1;34m(input_fn)\u001b[0m\n\u001b[0;32m     84\u001b[0m     \u001b[1;31m# `numpy` translates Tensors to values in Eager mode.\u001b[0m\u001b[1;33m\u001b[0m\u001b[1;33m\u001b[0m\u001b[1;33m\u001b[0m\u001b[0m\n\u001b[0;32m     85\u001b[0m     return nest.map_structure(_non_none_constant_value,\n\u001b[1;32m---> 86\u001b[1;33m                               distributed_function(input_fn))\n\u001b[0m\u001b[0;32m     87\u001b[0m \u001b[1;33m\u001b[0m\u001b[0m\n\u001b[0;32m     88\u001b[0m   \u001b[1;32mreturn\u001b[0m \u001b[0mexecution_function\u001b[0m\u001b[1;33m\u001b[0m\u001b[1;33m\u001b[0m\u001b[0m\n",
      "\u001b[1;32mC:\\Python\\Python37-32\\lib\\site-packages\\tensorflow_core\\python\\eager\\def_function.py\u001b[0m in \u001b[0;36m__call__\u001b[1;34m(self, *args, **kwds)\u001b[0m\n\u001b[0;32m    455\u001b[0m \u001b[1;33m\u001b[0m\u001b[0m\n\u001b[0;32m    456\u001b[0m     \u001b[0mtracing_count\u001b[0m \u001b[1;33m=\u001b[0m \u001b[0mself\u001b[0m\u001b[1;33m.\u001b[0m\u001b[0m_get_tracing_count\u001b[0m\u001b[1;33m(\u001b[0m\u001b[1;33m)\u001b[0m\u001b[1;33m\u001b[0m\u001b[1;33m\u001b[0m\u001b[0m\n\u001b[1;32m--> 457\u001b[1;33m     \u001b[0mresult\u001b[0m \u001b[1;33m=\u001b[0m \u001b[0mself\u001b[0m\u001b[1;33m.\u001b[0m\u001b[0m_call\u001b[0m\u001b[1;33m(\u001b[0m\u001b[1;33m*\u001b[0m\u001b[0margs\u001b[0m\u001b[1;33m,\u001b[0m \u001b[1;33m**\u001b[0m\u001b[0mkwds\u001b[0m\u001b[1;33m)\u001b[0m\u001b[1;33m\u001b[0m\u001b[1;33m\u001b[0m\u001b[0m\n\u001b[0m\u001b[0;32m    458\u001b[0m     \u001b[1;32mif\u001b[0m \u001b[0mtracing_count\u001b[0m \u001b[1;33m==\u001b[0m \u001b[0mself\u001b[0m\u001b[1;33m.\u001b[0m\u001b[0m_get_tracing_count\u001b[0m\u001b[1;33m(\u001b[0m\u001b[1;33m)\u001b[0m\u001b[1;33m:\u001b[0m\u001b[1;33m\u001b[0m\u001b[1;33m\u001b[0m\u001b[0m\n\u001b[0;32m    459\u001b[0m       \u001b[0mself\u001b[0m\u001b[1;33m.\u001b[0m\u001b[0m_call_counter\u001b[0m\u001b[1;33m.\u001b[0m\u001b[0mcalled_without_tracing\u001b[0m\u001b[1;33m(\u001b[0m\u001b[1;33m)\u001b[0m\u001b[1;33m\u001b[0m\u001b[1;33m\u001b[0m\u001b[0m\n",
      "\u001b[1;32mC:\\Python\\Python37-32\\lib\\site-packages\\tensorflow_core\\python\\eager\\def_function.py\u001b[0m in \u001b[0;36m_call\u001b[1;34m(self, *args, **kwds)\u001b[0m\n\u001b[0;32m    485\u001b[0m       \u001b[1;31m# In this case we have created variables on the first call, so we run the\u001b[0m\u001b[1;33m\u001b[0m\u001b[1;33m\u001b[0m\u001b[1;33m\u001b[0m\u001b[0m\n\u001b[0;32m    486\u001b[0m       \u001b[1;31m# defunned version which is guaranteed to never create variables.\u001b[0m\u001b[1;33m\u001b[0m\u001b[1;33m\u001b[0m\u001b[1;33m\u001b[0m\u001b[0m\n\u001b[1;32m--> 487\u001b[1;33m       \u001b[1;32mreturn\u001b[0m \u001b[0mself\u001b[0m\u001b[1;33m.\u001b[0m\u001b[0m_stateless_fn\u001b[0m\u001b[1;33m(\u001b[0m\u001b[1;33m*\u001b[0m\u001b[0margs\u001b[0m\u001b[1;33m,\u001b[0m \u001b[1;33m**\u001b[0m\u001b[0mkwds\u001b[0m\u001b[1;33m)\u001b[0m  \u001b[1;31m# pylint: disable=not-callable\u001b[0m\u001b[1;33m\u001b[0m\u001b[1;33m\u001b[0m\u001b[0m\n\u001b[0m\u001b[0;32m    488\u001b[0m     \u001b[1;32melif\u001b[0m \u001b[0mself\u001b[0m\u001b[1;33m.\u001b[0m\u001b[0m_stateful_fn\u001b[0m \u001b[1;32mis\u001b[0m \u001b[1;32mnot\u001b[0m \u001b[1;32mNone\u001b[0m\u001b[1;33m:\u001b[0m\u001b[1;33m\u001b[0m\u001b[1;33m\u001b[0m\u001b[0m\n\u001b[0;32m    489\u001b[0m       \u001b[1;31m# Release the lock early so that multiple threads can perform the call\u001b[0m\u001b[1;33m\u001b[0m\u001b[1;33m\u001b[0m\u001b[1;33m\u001b[0m\u001b[0m\n",
      "\u001b[1;32mC:\\Python\\Python37-32\\lib\\site-packages\\tensorflow_core\\python\\eager\\function.py\u001b[0m in \u001b[0;36m__call__\u001b[1;34m(self, *args, **kwargs)\u001b[0m\n\u001b[0;32m   1821\u001b[0m     \u001b[1;34m\"\"\"Calls a graph function specialized to the inputs.\"\"\"\u001b[0m\u001b[1;33m\u001b[0m\u001b[1;33m\u001b[0m\u001b[0m\n\u001b[0;32m   1822\u001b[0m     \u001b[0mgraph_function\u001b[0m\u001b[1;33m,\u001b[0m \u001b[0margs\u001b[0m\u001b[1;33m,\u001b[0m \u001b[0mkwargs\u001b[0m \u001b[1;33m=\u001b[0m \u001b[0mself\u001b[0m\u001b[1;33m.\u001b[0m\u001b[0m_maybe_define_function\u001b[0m\u001b[1;33m(\u001b[0m\u001b[0margs\u001b[0m\u001b[1;33m,\u001b[0m \u001b[0mkwargs\u001b[0m\u001b[1;33m)\u001b[0m\u001b[1;33m\u001b[0m\u001b[1;33m\u001b[0m\u001b[0m\n\u001b[1;32m-> 1823\u001b[1;33m     \u001b[1;32mreturn\u001b[0m \u001b[0mgraph_function\u001b[0m\u001b[1;33m.\u001b[0m\u001b[0m_filtered_call\u001b[0m\u001b[1;33m(\u001b[0m\u001b[0margs\u001b[0m\u001b[1;33m,\u001b[0m \u001b[0mkwargs\u001b[0m\u001b[1;33m)\u001b[0m  \u001b[1;31m# pylint: disable=protected-access\u001b[0m\u001b[1;33m\u001b[0m\u001b[1;33m\u001b[0m\u001b[0m\n\u001b[0m\u001b[0;32m   1824\u001b[0m \u001b[1;33m\u001b[0m\u001b[0m\n\u001b[0;32m   1825\u001b[0m   \u001b[1;33m@\u001b[0m\u001b[0mproperty\u001b[0m\u001b[1;33m\u001b[0m\u001b[1;33m\u001b[0m\u001b[0m\n",
      "\u001b[1;32mC:\\Python\\Python37-32\\lib\\site-packages\\tensorflow_core\\python\\eager\\function.py\u001b[0m in \u001b[0;36m_filtered_call\u001b[1;34m(self, args, kwargs)\u001b[0m\n\u001b[0;32m   1139\u001b[0m          if isinstance(t, (ops.Tensor,\n\u001b[0;32m   1140\u001b[0m                            resource_variable_ops.BaseResourceVariable))),\n\u001b[1;32m-> 1141\u001b[1;33m         self.captured_inputs)\n\u001b[0m\u001b[0;32m   1142\u001b[0m \u001b[1;33m\u001b[0m\u001b[0m\n\u001b[0;32m   1143\u001b[0m   \u001b[1;32mdef\u001b[0m \u001b[0m_call_flat\u001b[0m\u001b[1;33m(\u001b[0m\u001b[0mself\u001b[0m\u001b[1;33m,\u001b[0m \u001b[0margs\u001b[0m\u001b[1;33m,\u001b[0m \u001b[0mcaptured_inputs\u001b[0m\u001b[1;33m,\u001b[0m \u001b[0mcancellation_manager\u001b[0m\u001b[1;33m=\u001b[0m\u001b[1;32mNone\u001b[0m\u001b[1;33m)\u001b[0m\u001b[1;33m:\u001b[0m\u001b[1;33m\u001b[0m\u001b[1;33m\u001b[0m\u001b[0m\n",
      "\u001b[1;32mC:\\Python\\Python37-32\\lib\\site-packages\\tensorflow_core\\python\\eager\\function.py\u001b[0m in \u001b[0;36m_call_flat\u001b[1;34m(self, args, captured_inputs, cancellation_manager)\u001b[0m\n\u001b[0;32m   1222\u001b[0m     \u001b[1;32mif\u001b[0m \u001b[0mexecuting_eagerly\u001b[0m\u001b[1;33m:\u001b[0m\u001b[1;33m\u001b[0m\u001b[1;33m\u001b[0m\u001b[0m\n\u001b[0;32m   1223\u001b[0m       flat_outputs = forward_function.call(\n\u001b[1;32m-> 1224\u001b[1;33m           ctx, args, cancellation_manager=cancellation_manager)\n\u001b[0m\u001b[0;32m   1225\u001b[0m     \u001b[1;32melse\u001b[0m\u001b[1;33m:\u001b[0m\u001b[1;33m\u001b[0m\u001b[1;33m\u001b[0m\u001b[0m\n\u001b[0;32m   1226\u001b[0m       \u001b[0mgradient_name\u001b[0m \u001b[1;33m=\u001b[0m \u001b[0mself\u001b[0m\u001b[1;33m.\u001b[0m\u001b[0m_delayed_rewrite_functions\u001b[0m\u001b[1;33m.\u001b[0m\u001b[0mregister\u001b[0m\u001b[1;33m(\u001b[0m\u001b[1;33m)\u001b[0m\u001b[1;33m\u001b[0m\u001b[1;33m\u001b[0m\u001b[0m\n",
      "\u001b[1;32mC:\\Python\\Python37-32\\lib\\site-packages\\tensorflow_core\\python\\eager\\function.py\u001b[0m in \u001b[0;36mcall\u001b[1;34m(self, ctx, args, cancellation_manager)\u001b[0m\n\u001b[0;32m    509\u001b[0m               \u001b[0minputs\u001b[0m\u001b[1;33m=\u001b[0m\u001b[0margs\u001b[0m\u001b[1;33m,\u001b[0m\u001b[1;33m\u001b[0m\u001b[1;33m\u001b[0m\u001b[0m\n\u001b[0;32m    510\u001b[0m               \u001b[0mattrs\u001b[0m\u001b[1;33m=\u001b[0m\u001b[1;33m(\u001b[0m\u001b[1;34m\"executor_type\"\u001b[0m\u001b[1;33m,\u001b[0m \u001b[0mexecutor_type\u001b[0m\u001b[1;33m,\u001b[0m \u001b[1;34m\"config_proto\"\u001b[0m\u001b[1;33m,\u001b[0m \u001b[0mconfig\u001b[0m\u001b[1;33m)\u001b[0m\u001b[1;33m,\u001b[0m\u001b[1;33m\u001b[0m\u001b[1;33m\u001b[0m\u001b[0m\n\u001b[1;32m--> 511\u001b[1;33m               ctx=ctx)\n\u001b[0m\u001b[0;32m    512\u001b[0m         \u001b[1;32melse\u001b[0m\u001b[1;33m:\u001b[0m\u001b[1;33m\u001b[0m\u001b[1;33m\u001b[0m\u001b[0m\n\u001b[0;32m    513\u001b[0m           outputs = execute.execute_with_cancellation(\n",
      "\u001b[1;32mC:\\Python\\Python37-32\\lib\\site-packages\\tensorflow_core\\python\\eager\\execute.py\u001b[0m in \u001b[0;36mquick_execute\u001b[1;34m(op_name, num_outputs, inputs, attrs, ctx, name)\u001b[0m\n\u001b[0;32m     59\u001b[0m     tensors = pywrap_tensorflow.TFE_Py_Execute(ctx._handle, device_name,\n\u001b[0;32m     60\u001b[0m                                                \u001b[0mop_name\u001b[0m\u001b[1;33m,\u001b[0m \u001b[0minputs\u001b[0m\u001b[1;33m,\u001b[0m \u001b[0mattrs\u001b[0m\u001b[1;33m,\u001b[0m\u001b[1;33m\u001b[0m\u001b[1;33m\u001b[0m\u001b[0m\n\u001b[1;32m---> 61\u001b[1;33m                                                num_outputs)\n\u001b[0m\u001b[0;32m     62\u001b[0m   \u001b[1;32mexcept\u001b[0m \u001b[0mcore\u001b[0m\u001b[1;33m.\u001b[0m\u001b[0m_NotOkStatusException\u001b[0m \u001b[1;32mas\u001b[0m \u001b[0me\u001b[0m\u001b[1;33m:\u001b[0m\u001b[1;33m\u001b[0m\u001b[1;33m\u001b[0m\u001b[0m\n\u001b[0;32m     63\u001b[0m     \u001b[1;32mif\u001b[0m \u001b[0mname\u001b[0m \u001b[1;32mis\u001b[0m \u001b[1;32mnot\u001b[0m \u001b[1;32mNone\u001b[0m\u001b[1;33m:\u001b[0m\u001b[1;33m\u001b[0m\u001b[1;33m\u001b[0m\u001b[0m\n",
      "\u001b[1;31mKeyboardInterrupt\u001b[0m: "
     ]
    }
   ],
   "source": [
    "\n",
    "model.fit(X, y, epochs=30, batch_size=32)"
   ]
  },
  {
   "cell_type": "code",
   "execution_count": 24,
   "metadata": {},
   "outputs": [],
   "source": [
    "pred = model1.predict(X_test)\n"
   ]
  },
  {
   "cell_type": "code",
   "execution_count": null,
   "metadata": {},
   "outputs": [],
   "source": []
  },
  {
   "cell_type": "code",
   "execution_count": 25,
   "metadata": {},
   "outputs": [
    {
     "data": {
      "text/plain": [
       "Text(0.5, 1.0, 'MultiVariate LiteCoin')"
      ]
     },
     "execution_count": 25,
     "metadata": {},
     "output_type": "execute_result"
    },
    {
     "data": {
      "image/png": "[encoded data removed]",
      "text/plain": [
       "<Figure size 432x288 with 1 Axes>"
      ]
     },
     "metadata": {
      "needs_background": "light"
     },
     "output_type": "display_data"
    }
   ],
   "source": [
    "plt.plot(pred,color='red')\n",
    "plt.plot(input_data[90:test_size+(180),0],color='green')\n",
    "plt.title(\"MultiVariate LiteCoin\")\n"
   ]
  },
  {
   "cell_type": "code",
   "execution_count": 26,
   "metadata": {},
   "outputs": [
    {
     "data": {
      "text/plain": [
       "[<matplotlib.lines.Line2D at 0x27a74289d30>]"
      ]
     },
     "execution_count": 26,
     "metadata": {},
     "output_type": "execute_result"
    },
    {
     "data": {
      "image/png": "[encoded data removed]",
      "text/plain": [
       "<Figure size 432x288 with 1 Axes>"
      ]
     },
     "metadata": {
      "needs_background": "light"
     },
     "output_type": "display_data"
    }
   ],
   "source": [
    "plt.plot(input_data[90:180,0],color='green')\n",
    "plt.plot(pred[:90],color='red')"
   ]
  },
  {
   "cell_type": "code",
   "execution_count": 27,
   "metadata": {},
   "outputs": [
    {
     "data": {
      "text/plain": [
       "[<matplotlib.lines.Line2D at 0x27a742e0d30>]"
      ]
     },
     "execution_count": 27,
     "metadata": {},
     "output_type": "execute_result"
    },
    {
     "data": {
      "image/png": "[encoded data removed]",
      "text/plain": [
       "<Figure size 432x288 with 1 Axes>"
      ]
     },
     "metadata": {
      "needs_background": "light"
     },
     "output_type": "display_data"
    }
   ],
   "source": [
    "plt.plot(input_data[300:500,0],color='green')\n",
    "plt.plot(pred[210:410],color='red')"
   ]
  },
  {
   "cell_type": "code",
   "execution_count": 28,
   "metadata": {},
   "outputs": [
    {
     "data": {
      "text/plain": [
       "[<matplotlib.lines.Line2D at 0x27a74338d68>]"
      ]
     },
     "execution_count": 28,
     "metadata": {},
     "output_type": "execute_result"
    },
    {
     "data": {
      "image/png": "[encoded data removed]",
      "text/plain": [
       "<Figure size 432x288 with 1 Axes>"
      ]
     },
     "metadata": {
      "needs_background": "light"
     },
     "output_type": "display_data"
    }
   ],
   "source": [
    "plt.plot(input_data[500:600,0],color='green')\n",
    "plt.plot(pred[410:510],color='red')"
   ]
  },
  {
   "cell_type": "code",
   "execution_count": 29,
   "metadata": {},
   "outputs": [
    {
     "name": "stdout",
     "output_type": "stream",
     "text": [
      "Train on 1951 samples\n",
      "Epoch 1/30\n",
      "1280/1951 [==================>...........] - ETA: 5s - loss: 3590.0540"
     ]
    },
    {
     "ename": "KeyboardInterrupt",
     "evalue": "",
     "output_type": "error",
     "traceback": [
      "\u001b[1;31m---------------------------------------------------------------------------\u001b[0m",
      "\u001b[1;31mKeyboardInterrupt\u001b[0m                         Traceback (most recent call last)",
      "\u001b[1;32m<ipython-input-29-69261d24ad3c>\u001b[0m in \u001b[0;36m<module>\u001b[1;34m\u001b[0m\n\u001b[0;32m      1\u001b[0m \u001b[1;31m#training further epochs\u001b[0m\u001b[1;33m\u001b[0m\u001b[1;33m\u001b[0m\u001b[1;33m\u001b[0m\u001b[0m\n\u001b[0;32m      2\u001b[0m \u001b[1;33m\u001b[0m\u001b[0m\n\u001b[1;32m----> 3\u001b[1;33m \u001b[0mmodel\u001b[0m\u001b[1;33m.\u001b[0m\u001b[0mfit\u001b[0m\u001b[1;33m(\u001b[0m\u001b[0mX\u001b[0m\u001b[1;33m,\u001b[0m \u001b[0my\u001b[0m\u001b[1;33m,\u001b[0m \u001b[0mepochs\u001b[0m\u001b[1;33m=\u001b[0m\u001b[1;36m30\u001b[0m\u001b[1;33m,\u001b[0m \u001b[0mbatch_size\u001b[0m\u001b[1;33m=\u001b[0m\u001b[1;36m32\u001b[0m\u001b[1;33m)\u001b[0m\u001b[1;33m\u001b[0m\u001b[1;33m\u001b[0m\u001b[0m\n\u001b[0m",
      "\u001b[1;32mC:\\Python\\Python37-32\\lib\\site-packages\\tensorflow_core\\python\\keras\\engine\\training.py\u001b[0m in \u001b[0;36mfit\u001b[1;34m(self, x, y, batch_size, epochs, verbose, callbacks, validation_split, validation_data, shuffle, class_weight, sample_weight, initial_epoch, steps_per_epoch, validation_steps, validation_freq, max_queue_size, workers, use_multiprocessing, **kwargs)\u001b[0m\n\u001b[0;32m    726\u001b[0m         \u001b[0mmax_queue_size\u001b[0m\u001b[1;33m=\u001b[0m\u001b[0mmax_queue_size\u001b[0m\u001b[1;33m,\u001b[0m\u001b[1;33m\u001b[0m\u001b[1;33m\u001b[0m\u001b[0m\n\u001b[0;32m    727\u001b[0m         \u001b[0mworkers\u001b[0m\u001b[1;33m=\u001b[0m\u001b[0mworkers\u001b[0m\u001b[1;33m,\u001b[0m\u001b[1;33m\u001b[0m\u001b[1;33m\u001b[0m\u001b[0m\n\u001b[1;32m--> 728\u001b[1;33m         use_multiprocessing=use_multiprocessing)\n\u001b[0m\u001b[0;32m    729\u001b[0m \u001b[1;33m\u001b[0m\u001b[0m\n\u001b[0;32m    730\u001b[0m   def evaluate(self,\n",
      "\u001b[1;32mC:\\Python\\Python37-32\\lib\\site-packages\\tensorflow_core\\python\\keras\\engine\\training_v2.py\u001b[0m in \u001b[0;36mfit\u001b[1;34m(self, model, x, y, batch_size, epochs, verbose, callbacks, validation_split, validation_data, shuffle, class_weight, sample_weight, initial_epoch, steps_per_epoch, validation_steps, validation_freq, **kwargs)\u001b[0m\n\u001b[0;32m    322\u001b[0m                 \u001b[0mmode\u001b[0m\u001b[1;33m=\u001b[0m\u001b[0mModeKeys\u001b[0m\u001b[1;33m.\u001b[0m\u001b[0mTRAIN\u001b[0m\u001b[1;33m,\u001b[0m\u001b[1;33m\u001b[0m\u001b[1;33m\u001b[0m\u001b[0m\n\u001b[0;32m    323\u001b[0m                 \u001b[0mtraining_context\u001b[0m\u001b[1;33m=\u001b[0m\u001b[0mtraining_context\u001b[0m\u001b[1;33m,\u001b[0m\u001b[1;33m\u001b[0m\u001b[1;33m\u001b[0m\u001b[0m\n\u001b[1;32m--> 324\u001b[1;33m                 total_epochs=epochs)\n\u001b[0m\u001b[0;32m    325\u001b[0m             \u001b[0mcbks\u001b[0m\u001b[1;33m.\u001b[0m\u001b[0mmake_logs\u001b[0m\u001b[1;33m(\u001b[0m\u001b[0mmodel\u001b[0m\u001b[1;33m,\u001b[0m \u001b[0mepoch_logs\u001b[0m\u001b[1;33m,\u001b[0m \u001b[0mtraining_result\u001b[0m\u001b[1;33m,\u001b[0m \u001b[0mModeKeys\u001b[0m\u001b[1;33m.\u001b[0m\u001b[0mTRAIN\u001b[0m\u001b[1;33m)\u001b[0m\u001b[1;33m\u001b[0m\u001b[1;33m\u001b[0m\u001b[0m\n\u001b[0;32m    326\u001b[0m \u001b[1;33m\u001b[0m\u001b[0m\n",
      "\u001b[1;32mC:\\Python\\Python37-32\\lib\\site-packages\\tensorflow_core\\python\\keras\\engine\\training_v2.py\u001b[0m in \u001b[0;36mrun_one_epoch\u001b[1;34m(model, iterator, execution_function, dataset_size, batch_size, strategy, steps_per_epoch, num_samples, mode, training_context, total_epochs)\u001b[0m\n\u001b[0;32m    121\u001b[0m         step=step, mode=mode, size=current_batch_size) as batch_logs:\n\u001b[0;32m    122\u001b[0m       \u001b[1;32mtry\u001b[0m\u001b[1;33m:\u001b[0m\u001b[1;33m\u001b[0m\u001b[1;33m\u001b[0m\u001b[0m\n\u001b[1;32m--> 123\u001b[1;33m         \u001b[0mbatch_outs\u001b[0m \u001b[1;33m=\u001b[0m \u001b[0mexecution_function\u001b[0m\u001b[1;33m(\u001b[0m\u001b[0miterator\u001b[0m\u001b[1;33m)\u001b[0m\u001b[1;33m\u001b[0m\u001b[1;33m\u001b[0m\u001b[0m\n\u001b[0m\u001b[0;32m    124\u001b[0m       \u001b[1;32mexcept\u001b[0m \u001b[1;33m(\u001b[0m\u001b[0mStopIteration\u001b[0m\u001b[1;33m,\u001b[0m \u001b[0merrors\u001b[0m\u001b[1;33m.\u001b[0m\u001b[0mOutOfRangeError\u001b[0m\u001b[1;33m)\u001b[0m\u001b[1;33m:\u001b[0m\u001b[1;33m\u001b[0m\u001b[1;33m\u001b[0m\u001b[0m\n\u001b[0;32m    125\u001b[0m         \u001b[1;31m# TODO(kaftan): File bug about tf function and errors.OutOfRangeError?\u001b[0m\u001b[1;33m\u001b[0m\u001b[1;33m\u001b[0m\u001b[1;33m\u001b[0m\u001b[0m\n",
      "\u001b[1;32mC:\\Python\\Python37-32\\lib\\site-packages\\tensorflow_core\\python\\keras\\engine\\training_v2_utils.py\u001b[0m in \u001b[0;36mexecution_function\u001b[1;34m(input_fn)\u001b[0m\n\u001b[0;32m     84\u001b[0m     \u001b[1;31m# `numpy` translates Tensors to values in Eager mode.\u001b[0m\u001b[1;33m\u001b[0m\u001b[1;33m\u001b[0m\u001b[1;33m\u001b[0m\u001b[0m\n\u001b[0;32m     85\u001b[0m     return nest.map_structure(_non_none_constant_value,\n\u001b[1;32m---> 86\u001b[1;33m                               distributed_function(input_fn))\n\u001b[0m\u001b[0;32m     87\u001b[0m \u001b[1;33m\u001b[0m\u001b[0m\n\u001b[0;32m     88\u001b[0m   \u001b[1;32mreturn\u001b[0m \u001b[0mexecution_function\u001b[0m\u001b[1;33m\u001b[0m\u001b[1;33m\u001b[0m\u001b[0m\n",
      "\u001b[1;32mC:\\Python\\Python37-32\\lib\\site-packages\\tensorflow_core\\python\\eager\\def_function.py\u001b[0m in \u001b[0;36m__call__\u001b[1;34m(self, *args, **kwds)\u001b[0m\n\u001b[0;32m    455\u001b[0m \u001b[1;33m\u001b[0m\u001b[0m\n\u001b[0;32m    456\u001b[0m     \u001b[0mtracing_count\u001b[0m \u001b[1;33m=\u001b[0m \u001b[0mself\u001b[0m\u001b[1;33m.\u001b[0m\u001b[0m_get_tracing_count\u001b[0m\u001b[1;33m(\u001b[0m\u001b[1;33m)\u001b[0m\u001b[1;33m\u001b[0m\u001b[1;33m\u001b[0m\u001b[0m\n\u001b[1;32m--> 457\u001b[1;33m     \u001b[0mresult\u001b[0m \u001b[1;33m=\u001b[0m \u001b[0mself\u001b[0m\u001b[1;33m.\u001b[0m\u001b[0m_call\u001b[0m\u001b[1;33m(\u001b[0m\u001b[1;33m*\u001b[0m\u001b[0margs\u001b[0m\u001b[1;33m,\u001b[0m \u001b[1;33m**\u001b[0m\u001b[0mkwds\u001b[0m\u001b[1;33m)\u001b[0m\u001b[1;33m\u001b[0m\u001b[1;33m\u001b[0m\u001b[0m\n\u001b[0m\u001b[0;32m    458\u001b[0m     \u001b[1;32mif\u001b[0m \u001b[0mtracing_count\u001b[0m \u001b[1;33m==\u001b[0m \u001b[0mself\u001b[0m\u001b[1;33m.\u001b[0m\u001b[0m_get_tracing_count\u001b[0m\u001b[1;33m(\u001b[0m\u001b[1;33m)\u001b[0m\u001b[1;33m:\u001b[0m\u001b[1;33m\u001b[0m\u001b[1;33m\u001b[0m\u001b[0m\n\u001b[0;32m    459\u001b[0m       \u001b[0mself\u001b[0m\u001b[1;33m.\u001b[0m\u001b[0m_call_counter\u001b[0m\u001b[1;33m.\u001b[0m\u001b[0mcalled_without_tracing\u001b[0m\u001b[1;33m(\u001b[0m\u001b[1;33m)\u001b[0m\u001b[1;33m\u001b[0m\u001b[1;33m\u001b[0m\u001b[0m\n",
      "\u001b[1;32mC:\\Python\\Python37-32\\lib\\site-packages\\tensorflow_core\\python\\eager\\def_function.py\u001b[0m in \u001b[0;36m_call\u001b[1;34m(self, *args, **kwds)\u001b[0m\n\u001b[0;32m    485\u001b[0m       \u001b[1;31m# In this case we have created variables on the first call, so we run the\u001b[0m\u001b[1;33m\u001b[0m\u001b[1;33m\u001b[0m\u001b[1;33m\u001b[0m\u001b[0m\n\u001b[0;32m    486\u001b[0m       \u001b[1;31m# defunned version which is guaranteed to never create variables.\u001b[0m\u001b[1;33m\u001b[0m\u001b[1;33m\u001b[0m\u001b[1;33m\u001b[0m\u001b[0m\n\u001b[1;32m--> 487\u001b[1;33m       \u001b[1;32mreturn\u001b[0m \u001b[0mself\u001b[0m\u001b[1;33m.\u001b[0m\u001b[0m_stateless_fn\u001b[0m\u001b[1;33m(\u001b[0m\u001b[1;33m*\u001b[0m\u001b[0margs\u001b[0m\u001b[1;33m,\u001b[0m \u001b[1;33m**\u001b[0m\u001b[0mkwds\u001b[0m\u001b[1;33m)\u001b[0m  \u001b[1;31m# pylint: disable=not-callable\u001b[0m\u001b[1;33m\u001b[0m\u001b[1;33m\u001b[0m\u001b[0m\n\u001b[0m\u001b[0;32m    488\u001b[0m     \u001b[1;32melif\u001b[0m \u001b[0mself\u001b[0m\u001b[1;33m.\u001b[0m\u001b[0m_stateful_fn\u001b[0m \u001b[1;32mis\u001b[0m \u001b[1;32mnot\u001b[0m \u001b[1;32mNone\u001b[0m\u001b[1;33m:\u001b[0m\u001b[1;33m\u001b[0m\u001b[1;33m\u001b[0m\u001b[0m\n\u001b[0;32m    489\u001b[0m       \u001b[1;31m# Release the lock early so that multiple threads can perform the call\u001b[0m\u001b[1;33m\u001b[0m\u001b[1;33m\u001b[0m\u001b[1;33m\u001b[0m\u001b[0m\n",
      "\u001b[1;32mC:\\Python\\Python37-32\\lib\\site-packages\\tensorflow_core\\python\\eager\\function.py\u001b[0m in \u001b[0;36m__call__\u001b[1;34m(self, *args, **kwargs)\u001b[0m\n\u001b[0;32m   1821\u001b[0m     \u001b[1;34m\"\"\"Calls a graph function specialized to the inputs.\"\"\"\u001b[0m\u001b[1;33m\u001b[0m\u001b[1;33m\u001b[0m\u001b[0m\n\u001b[0;32m   1822\u001b[0m     \u001b[0mgraph_function\u001b[0m\u001b[1;33m,\u001b[0m \u001b[0margs\u001b[0m\u001b[1;33m,\u001b[0m \u001b[0mkwargs\u001b[0m \u001b[1;33m=\u001b[0m \u001b[0mself\u001b[0m\u001b[1;33m.\u001b[0m\u001b[0m_maybe_define_function\u001b[0m\u001b[1;33m(\u001b[0m\u001b[0margs\u001b[0m\u001b[1;33m,\u001b[0m \u001b[0mkwargs\u001b[0m\u001b[1;33m)\u001b[0m\u001b[1;33m\u001b[0m\u001b[1;33m\u001b[0m\u001b[0m\n\u001b[1;32m-> 1823\u001b[1;33m     \u001b[1;32mreturn\u001b[0m \u001b[0mgraph_function\u001b[0m\u001b[1;33m.\u001b[0m\u001b[0m_filtered_call\u001b[0m\u001b[1;33m(\u001b[0m\u001b[0margs\u001b[0m\u001b[1;33m,\u001b[0m \u001b[0mkwargs\u001b[0m\u001b[1;33m)\u001b[0m  \u001b[1;31m# pylint: disable=protected-access\u001b[0m\u001b[1;33m\u001b[0m\u001b[1;33m\u001b[0m\u001b[0m\n\u001b[0m\u001b[0;32m   1824\u001b[0m \u001b[1;33m\u001b[0m\u001b[0m\n\u001b[0;32m   1825\u001b[0m   \u001b[1;33m@\u001b[0m\u001b[0mproperty\u001b[0m\u001b[1;33m\u001b[0m\u001b[1;33m\u001b[0m\u001b[0m\n",
      "\u001b[1;32mC:\\Python\\Python37-32\\lib\\site-packages\\tensorflow_core\\python\\eager\\function.py\u001b[0m in \u001b[0;36m_filtered_call\u001b[1;34m(self, args, kwargs)\u001b[0m\n\u001b[0;32m   1139\u001b[0m          if isinstance(t, (ops.Tensor,\n\u001b[0;32m   1140\u001b[0m                            resource_variable_ops.BaseResourceVariable))),\n\u001b[1;32m-> 1141\u001b[1;33m         self.captured_inputs)\n\u001b[0m\u001b[0;32m   1142\u001b[0m \u001b[1;33m\u001b[0m\u001b[0m\n\u001b[0;32m   1143\u001b[0m   \u001b[1;32mdef\u001b[0m \u001b[0m_call_flat\u001b[0m\u001b[1;33m(\u001b[0m\u001b[0mself\u001b[0m\u001b[1;33m,\u001b[0m \u001b[0margs\u001b[0m\u001b[1;33m,\u001b[0m \u001b[0mcaptured_inputs\u001b[0m\u001b[1;33m,\u001b[0m \u001b[0mcancellation_manager\u001b[0m\u001b[1;33m=\u001b[0m\u001b[1;32mNone\u001b[0m\u001b[1;33m)\u001b[0m\u001b[1;33m:\u001b[0m\u001b[1;33m\u001b[0m\u001b[1;33m\u001b[0m\u001b[0m\n",
      "\u001b[1;32mC:\\Python\\Python37-32\\lib\\site-packages\\tensorflow_core\\python\\eager\\function.py\u001b[0m in \u001b[0;36m_call_flat\u001b[1;34m(self, args, captured_inputs, cancellation_manager)\u001b[0m\n\u001b[0;32m   1222\u001b[0m     \u001b[1;32mif\u001b[0m \u001b[0mexecuting_eagerly\u001b[0m\u001b[1;33m:\u001b[0m\u001b[1;33m\u001b[0m\u001b[1;33m\u001b[0m\u001b[0m\n\u001b[0;32m   1223\u001b[0m       flat_outputs = forward_function.call(\n\u001b[1;32m-> 1224\u001b[1;33m           ctx, args, cancellation_manager=cancellation_manager)\n\u001b[0m\u001b[0;32m   1225\u001b[0m     \u001b[1;32melse\u001b[0m\u001b[1;33m:\u001b[0m\u001b[1;33m\u001b[0m\u001b[1;33m\u001b[0m\u001b[0m\n\u001b[0;32m   1226\u001b[0m       \u001b[0mgradient_name\u001b[0m \u001b[1;33m=\u001b[0m \u001b[0mself\u001b[0m\u001b[1;33m.\u001b[0m\u001b[0m_delayed_rewrite_functions\u001b[0m\u001b[1;33m.\u001b[0m\u001b[0mregister\u001b[0m\u001b[1;33m(\u001b[0m\u001b[1;33m)\u001b[0m\u001b[1;33m\u001b[0m\u001b[1;33m\u001b[0m\u001b[0m\n",
      "\u001b[1;32mC:\\Python\\Python37-32\\lib\\site-packages\\tensorflow_core\\python\\eager\\function.py\u001b[0m in \u001b[0;36mcall\u001b[1;34m(self, ctx, args, cancellation_manager)\u001b[0m\n\u001b[0;32m    509\u001b[0m               \u001b[0minputs\u001b[0m\u001b[1;33m=\u001b[0m\u001b[0margs\u001b[0m\u001b[1;33m,\u001b[0m\u001b[1;33m\u001b[0m\u001b[1;33m\u001b[0m\u001b[0m\n\u001b[0;32m    510\u001b[0m               \u001b[0mattrs\u001b[0m\u001b[1;33m=\u001b[0m\u001b[1;33m(\u001b[0m\u001b[1;34m\"executor_type\"\u001b[0m\u001b[1;33m,\u001b[0m \u001b[0mexecutor_type\u001b[0m\u001b[1;33m,\u001b[0m \u001b[1;34m\"config_proto\"\u001b[0m\u001b[1;33m,\u001b[0m \u001b[0mconfig\u001b[0m\u001b[1;33m)\u001b[0m\u001b[1;33m,\u001b[0m\u001b[1;33m\u001b[0m\u001b[1;33m\u001b[0m\u001b[0m\n\u001b[1;32m--> 511\u001b[1;33m               ctx=ctx)\n\u001b[0m\u001b[0;32m    512\u001b[0m         \u001b[1;32melse\u001b[0m\u001b[1;33m:\u001b[0m\u001b[1;33m\u001b[0m\u001b[1;33m\u001b[0m\u001b[0m\n\u001b[0;32m    513\u001b[0m           outputs = execute.execute_with_cancellation(\n",
      "\u001b[1;32mC:\\Python\\Python37-32\\lib\\site-packages\\tensorflow_core\\python\\eager\\execute.py\u001b[0m in \u001b[0;36mquick_execute\u001b[1;34m(op_name, num_outputs, inputs, attrs, ctx, name)\u001b[0m\n\u001b[0;32m     59\u001b[0m     tensors = pywrap_tensorflow.TFE_Py_Execute(ctx._handle, device_name,\n\u001b[0;32m     60\u001b[0m                                                \u001b[0mop_name\u001b[0m\u001b[1;33m,\u001b[0m \u001b[0minputs\u001b[0m\u001b[1;33m,\u001b[0m \u001b[0mattrs\u001b[0m\u001b[1;33m,\u001b[0m\u001b[1;33m\u001b[0m\u001b[1;33m\u001b[0m\u001b[0m\n\u001b[1;32m---> 61\u001b[1;33m                                                num_outputs)\n\u001b[0m\u001b[0;32m     62\u001b[0m   \u001b[1;32mexcept\u001b[0m \u001b[0mcore\u001b[0m\u001b[1;33m.\u001b[0m\u001b[0m_NotOkStatusException\u001b[0m \u001b[1;32mas\u001b[0m \u001b[0me\u001b[0m\u001b[1;33m:\u001b[0m\u001b[1;33m\u001b[0m\u001b[1;33m\u001b[0m\u001b[0m\n\u001b[0;32m     63\u001b[0m     \u001b[1;32mif\u001b[0m \u001b[0mname\u001b[0m \u001b[1;32mis\u001b[0m \u001b[1;32mnot\u001b[0m \u001b[1;32mNone\u001b[0m\u001b[1;33m:\u001b[0m\u001b[1;33m\u001b[0m\u001b[1;33m\u001b[0m\u001b[0m\n",
      "\u001b[1;31mKeyboardInterrupt\u001b[0m: "
     ]
    }
   ],
   "source": [
    "#training further epochs\n",
    "\n",
    "model.fit(X, y, epochs=30, batch_size=32)"
   ]
  },
  {
   "cell_type": "code",
   "execution_count": null,
   "metadata": {},
   "outputs": [],
   "source": [
    "plt.plot(input_data[90:180,0],color='green')\n",
    "plt.plot(pred[:90],color='red')"
   ]
  },
  {
   "cell_type": "code",
   "execution_count": null,
   "metadata": {},
   "outputs": [],
   "source": [
    "plt.plot(input_data[300:500,0],color='green')\n",
    "plt.plot(pred[210:410],color='red')"
   ]
  },
  {
   "cell_type": "code",
   "execution_count": null,
   "metadata": {},
   "outputs": [],
   "source": [
    "model.save(\"C:\\\\Users\\\\arjun\\\\Desktop\\\\litecoin.h5\",save_format='h5')"
   ]
  },
  {
   "cell_type": "code",
   "execution_count": 22,
   "metadata": {},
   "outputs": [],
   "source": [
    "model1=tf.keras.models.load_model(\"C:\\\\Users\\\\arjun\\\\Desktop\\\\litecoin.h5\")\n"
   ]
  },
  {
   "cell_type": "code",
   "execution_count": 23,
   "metadata": {},
   "outputs": [
    {
     "name": "stdout",
     "output_type": "stream",
     "text": [
      "Model: \"sequential\"\n",
      "_________________________________________________________________\n",
      "Layer (type)                 Output Shape              Param #   \n",
      "=================================================================\n",
      "lstm (LSTM)                  (None, 90, 30)            3960      \n",
      "_________________________________________________________________\n",
      "lstm_1 (LSTM)                (None, 90, 30)            7320      \n",
      "_________________________________________________________________\n",
      "lstm_2 (LSTM)                (None, 30)                7320      \n",
      "_________________________________________________________________\n",
      "dense (Dense)                (None, 1)                 31        \n",
      "=================================================================\n",
      "Total params: 18,631\n",
      "Trainable params: 18,631\n",
      "Non-trainable params: 0\n",
      "_________________________________________________________________\n"
     ]
    }
   ],
   "source": [
    "model1.summary()"
   ]
  },
  {
   "cell_type": "code",
   "execution_count": 24,
   "metadata": {},
   "outputs": [
    {
     "data": {
      "text/plain": [
       "array([[ 3.456056 ],\n",
       "       [ 3.4278104],\n",
       "       [ 3.3992627],\n",
       "       [ 3.390382 ],\n",
       "       [ 3.394451 ],\n",
       "       [ 3.4182932],\n",
       "       [ 3.423062 ],\n",
       "       [ 3.409938 ],\n",
       "       [ 3.420126 ],\n",
       "       [ 3.4386199],\n",
       "       [ 3.4517655],\n",
       "       [ 3.4047797],\n",
       "       [ 3.321642 ],\n",
       "       [ 3.2370136],\n",
       "       [ 3.1671152],\n",
       "       [ 3.1197786],\n",
       "       [ 3.0924685],\n",
       "       [ 3.094826 ],\n",
       "       [ 3.1199243],\n",
       "       [ 3.1724617],\n",
       "       [ 3.2181427],\n",
       "       [ 3.2300868],\n",
       "       [ 3.223772 ],\n",
       "       [ 3.2209132],\n",
       "       [ 3.2319586],\n",
       "       [ 3.2496316],\n",
       "       [ 3.2507458],\n",
       "       [ 3.2190769],\n",
       "       [ 3.2098398],\n",
       "       [ 3.1934364],\n",
       "       [ 3.1583252],\n",
       "       [ 3.1019106],\n",
       "       [ 3.0485716],\n",
       "       [ 3.0058882],\n",
       "       [ 2.9767458],\n",
       "       [ 2.9961033],\n",
       "       [ 3.0429215],\n",
       "       [ 3.097652 ],\n",
       "       [ 3.1258888],\n",
       "       [ 3.0959241],\n",
       "       [ 3.1773555],\n",
       "       [ 3.2728548],\n",
       "       [ 3.3043668],\n",
       "       [ 3.2572265],\n",
       "       [ 3.1843858],\n",
       "       [ 3.1234527],\n",
       "       [ 3.0908437],\n",
       "       [ 3.102559 ],\n",
       "       [ 3.134821 ],\n",
       "       [ 3.1573744],\n",
       "       [ 3.1445413],\n",
       "       [ 3.1147497],\n",
       "       [ 3.0810778],\n",
       "       [ 3.050621 ],\n",
       "       [ 3.026785 ],\n",
       "       [ 3.010596 ],\n",
       "       [ 3.0275702],\n",
       "       [ 3.0181522],\n",
       "       [ 3.0073967],\n",
       "       [ 2.998321 ],\n",
       "       [ 2.961862 ],\n",
       "       [ 2.9197388],\n",
       "       [ 2.8850496],\n",
       "       [ 2.8596277],\n",
       "       [ 2.8308635],\n",
       "       [ 2.7982395],\n",
       "       [ 2.7803395],\n",
       "       [ 2.792045 ],\n",
       "       [ 2.8182714],\n",
       "       [ 2.7675433],\n",
       "       [ 2.6916697],\n",
       "       [ 2.623978 ],\n",
       "       [ 2.5731015],\n",
       "       [ 2.5507753],\n",
       "       [ 2.5375686],\n",
       "       [ 2.506072 ],\n",
       "       [ 2.5138493],\n",
       "       [ 2.5415888],\n",
       "       [ 2.55162  ],\n",
       "       [ 2.5552828],\n",
       "       [ 2.553653 ],\n",
       "       [ 2.532833 ],\n",
       "       [ 2.4928465],\n",
       "       [ 2.4382324],\n",
       "       [ 2.382484 ],\n",
       "       [ 2.3477972],\n",
       "       [ 2.3333693],\n",
       "       [ 2.3325124],\n",
       "       [ 2.3245173],\n",
       "       [ 2.3671336],\n",
       "       [ 2.4811573],\n",
       "       [ 2.6744785],\n",
       "       [ 2.7828593],\n",
       "       [ 2.776919 ],\n",
       "       [ 2.7056146],\n",
       "       [ 2.6162224],\n",
       "       [ 2.5589075],\n",
       "       [ 2.5657372],\n",
       "       [ 2.6482584],\n",
       "       [ 2.8279173],\n",
       "       [ 3.2095537],\n",
       "       [ 3.530079 ],\n",
       "       [ 3.646452 ],\n",
       "       [ 3.7082095],\n",
       "       [ 4.1185555],\n",
       "       [ 4.702908 ],\n",
       "       [ 4.8835263],\n",
       "       [ 4.6866846],\n",
       "       [ 4.4336596],\n",
       "       [ 4.288417 ],\n",
       "       [ 4.3216147],\n",
       "       [ 4.487153 ],\n",
       "       [ 4.657849 ],\n",
       "       [ 4.713921 ],\n",
       "       [ 4.6827736],\n",
       "       [ 8.722391 ],\n",
       "       [ 9.606045 ],\n",
       "       [ 8.471224 ],\n",
       "       [ 8.940774 ],\n",
       "       [ 9.701999 ],\n",
       "       [10.46176  ],\n",
       "       [10.445868 ],\n",
       "       [11.70324  ],\n",
       "       [21.845446 ],\n",
       "       [41.98401  ],\n",
       "       [46.630276 ],\n",
       "       [41.61308  ],\n",
       "       [40.456688 ],\n",
       "       [38.20787  ],\n",
       "       [32.848415 ],\n",
       "       [42.090076 ],\n",
       "       [45.902004 ],\n",
       "       [40.638542 ],\n",
       "       [33.538536 ],\n",
       "       [27.871695 ],\n",
       "       [26.683287 ],\n",
       "       [34.59719  ],\n",
       "       [37.197388 ],\n",
       "       [34.903072 ],\n",
       "       [30.452188 ],\n",
       "       [33.990623 ],\n",
       "       [30.926304 ],\n",
       "       [31.461609 ],\n",
       "       [31.30323  ],\n",
       "       [24.73007  ],\n",
       "       [20.043743 ],\n",
       "       [20.25509  ],\n",
       "       [20.09923  ],\n",
       "       [18.194206 ],\n",
       "       [17.920639 ],\n",
       "       [17.937933 ],\n",
       "       [18.221922 ],\n",
       "       [22.336979 ],\n",
       "       [26.185247 ],\n",
       "       [25.24059  ],\n",
       "       [23.895454 ],\n",
       "       [25.880102 ],\n",
       "       [25.694063 ],\n",
       "       [25.306553 ],\n",
       "       [26.341875 ],\n",
       "       [28.077806 ],\n",
       "       [26.413855 ],\n",
       "       [26.626383 ],\n",
       "       [29.73218  ],\n",
       "       [33.62294  ],\n",
       "       [29.7251   ],\n",
       "       [25.068398 ],\n",
       "       [25.15658  ],\n",
       "       [26.178535 ],\n",
       "       [29.03292  ],\n",
       "       [27.998837 ],\n",
       "       [25.733711 ],\n",
       "       [25.783792 ],\n",
       "       [27.089827 ],\n",
       "       [26.137516 ],\n",
       "       [25.466661 ],\n",
       "       [25.663422 ],\n",
       "       [26.550278 ],\n",
       "       [26.746471 ],\n",
       "       [26.688438 ],\n",
       "       [25.81286  ],\n",
       "       [24.882582 ],\n",
       "       [22.98279  ],\n",
       "       [24.847698 ],\n",
       "       [25.424978 ],\n",
       "       [24.954893 ],\n",
       "       [23.32912  ],\n",
       "       [22.298746 ],\n",
       "       [22.669075 ],\n",
       "       [23.079088 ],\n",
       "       [24.423737 ],\n",
       "       [23.580532 ],\n",
       "       [23.19307  ],\n",
       "       [22.776665 ],\n",
       "       [22.597    ],\n",
       "       [21.518162 ],\n",
       "       [20.495356 ],\n",
       "       [19.536568 ],\n",
       "       [19.210596 ],\n",
       "       [18.964886 ],\n",
       "       [19.053135 ],\n",
       "       [17.752506 ],\n",
       "       [17.544493 ],\n",
       "       [17.367785 ],\n",
       "       [16.561577 ],\n",
       "       [16.889763 ],\n",
       "       [16.535172 ],\n",
       "       [16.08328  ],\n",
       "       [16.116386 ],\n",
       "       [16.161049 ],\n",
       "       [14.878928 ],\n",
       "       [15.400266 ],\n",
       "       [16.142141 ],\n",
       "       [15.623217 ],\n",
       "       [14.969722 ],\n",
       "       [15.200666 ],\n",
       "       [14.759029 ],\n",
       "       [14.663503 ],\n",
       "       [14.233899 ],\n",
       "       [14.07149  ],\n",
       "       [14.602847 ],\n",
       "       [18.427044 ],\n",
       "       [16.799576 ],\n",
       "       [17.03059  ],\n",
       "       [16.894953 ],\n",
       "       [16.470993 ],\n",
       "       [16.633364 ],\n",
       "       [16.643251 ],\n",
       "       [16.474007 ],\n",
       "       [17.493843 ],\n",
       "       [17.32652  ],\n",
       "       [17.431067 ],\n",
       "       [17.4021   ],\n",
       "       [17.77806  ],\n",
       "       [17.763744 ],\n",
       "       [20.327358 ],\n",
       "       [20.84348  ],\n",
       "       [17.3195   ],\n",
       "       [17.396904 ],\n",
       "       [16.188738 ],\n",
       "       [16.092724 ],\n",
       "       [16.511444 ],\n",
       "       [16.575699 ],\n",
       "       [17.114054 ],\n",
       "       [16.61671  ],\n",
       "       [15.040927 ],\n",
       "       [14.116624 ],\n",
       "       [13.976806 ],\n",
       "       [14.013327 ],\n",
       "       [13.915646 ],\n",
       "       [13.650681 ],\n",
       "       [12.008276 ],\n",
       "       [11.88052  ],\n",
       "       [11.719767 ],\n",
       "       [12.159615 ],\n",
       "       [12.265942 ],\n",
       "       [12.016642 ],\n",
       "       [11.905208 ],\n",
       "       [11.740266 ],\n",
       "       [11.19607  ],\n",
       "       [11.434303 ],\n",
       "       [11.257715 ],\n",
       "       [11.727015 ],\n",
       "       [13.204387 ],\n",
       "       [14.14495  ],\n",
       "       [13.8859825],\n",
       "       [13.019841 ],\n",
       "       [13.086415 ],\n",
       "       [13.326676 ],\n",
       "       [13.234947 ],\n",
       "       [12.9852705],\n",
       "       [12.637397 ],\n",
       "       [12.916656 ],\n",
       "       [12.924856 ],\n",
       "       [11.564569 ],\n",
       "       [11.214506 ],\n",
       "       [10.817803 ],\n",
       "       [10.850583 ],\n",
       "       [11.312163 ],\n",
       "       [11.62131  ],\n",
       "       [11.532204 ],\n",
       "       [11.073639 ],\n",
       "       [10.851974 ],\n",
       "       [10.819537 ],\n",
       "       [10.88821  ],\n",
       "       [11.1698475],\n",
       "       [11.0623455],\n",
       "       [11.06836  ],\n",
       "       [11.151924 ],\n",
       "       [11.128746 ],\n",
       "       [10.87583  ],\n",
       "       [10.826381 ],\n",
       "       [10.842886 ],\n",
       "       [10.909342 ],\n",
       "       [10.869175 ],\n",
       "       [10.831963 ],\n",
       "       [10.7974205],\n",
       "       [10.739351 ],\n",
       "       [10.957598 ],\n",
       "       [11.00882  ],\n",
       "       [11.044523 ],\n",
       "       [11.717043 ],\n",
       "       [11.504586 ],\n",
       "       [11.892673 ],\n",
       "       [11.992615 ],\n",
       "       [11.945682 ],\n",
       "       [11.624065 ],\n",
       "       [11.450409 ],\n",
       "       [11.583599 ],\n",
       "       [11.620932 ],\n",
       "       [11.766283 ],\n",
       "       [11.89247  ],\n",
       "       [11.822163 ],\n",
       "       [11.864397 ],\n",
       "       [11.686659 ],\n",
       "       [11.717194 ],\n",
       "       [11.6266575],\n",
       "       [11.662737 ],\n",
       "       [11.686764 ],\n",
       "       [11.665245 ],\n",
       "       [11.587093 ],\n",
       "       [11.408758 ],\n",
       "       [10.917514 ],\n",
       "       [10.725205 ],\n",
       "       [10.425813 ],\n",
       "       [10.427696 ],\n",
       "       [10.202429 ],\n",
       "       [10.107877 ],\n",
       "       [10.308054 ],\n",
       "       [10.323672 ],\n",
       "       [10.222321 ],\n",
       "       [10.220209 ],\n",
       "       [10.771511 ],\n",
       "       [10.179111 ],\n",
       "       [ 9.969069 ],\n",
       "       [ 9.645187 ],\n",
       "       [ 9.555832 ],\n",
       "       [ 9.563616 ],\n",
       "       [ 9.55566  ],\n",
       "       [ 9.408447 ],\n",
       "       [ 9.307985 ],\n",
       "       [ 8.804711 ],\n",
       "       [ 8.504805 ],\n",
       "       [ 8.334527 ],\n",
       "       [ 7.8929577],\n",
       "       [ 7.7027626],\n",
       "       [ 7.6546254],\n",
       "       [ 7.7896547],\n",
       "       [ 7.945663 ],\n",
       "       [ 7.9290605],\n",
       "       [ 7.9532585],\n",
       "       [ 8.295806 ],\n",
       "       [ 8.74861  ],\n",
       "       [ 8.868933 ],\n",
       "       [ 8.776646 ],\n",
       "       [ 8.65638  ],\n",
       "       [ 8.6447735],\n",
       "       [ 8.772404 ],\n",
       "       [ 8.81962  ],\n",
       "       [ 8.7809305],\n",
       "       [ 8.719984 ],\n",
       "       [ 9.042133 ],\n",
       "       [ 8.813887 ],\n",
       "       [ 8.673487 ],\n",
       "       [ 8.271524 ],\n",
       "       [ 7.9758945],\n",
       "       [ 7.909608 ],\n",
       "       [ 7.9185805],\n",
       "       [ 7.8329186],\n",
       "       [ 7.792224 ],\n",
       "       [ 7.664306 ],\n",
       "       [ 7.72506  ],\n",
       "       [ 7.751989 ],\n",
       "       [ 7.7192287],\n",
       "       [ 9.339853 ],\n",
       "       [ 8.10428  ],\n",
       "       [ 7.612439 ],\n",
       "       [ 7.3614073],\n",
       "       [ 7.336444 ],\n",
       "       [ 7.245039 ],\n",
       "       [ 7.1644382],\n",
       "       [ 7.1004353],\n",
       "       [ 6.610471 ],\n",
       "       [ 6.220262 ],\n",
       "       [ 5.7813354],\n",
       "       [ 5.555537 ],\n",
       "       [ 5.4085665],\n",
       "       [ 5.3407307],\n",
       "       [ 5.061073 ],\n",
       "       [ 4.952899 ],\n",
       "       [ 5.385188 ],\n",
       "       [ 6.0199475],\n",
       "       [ 6.08444  ],\n",
       "       [ 5.683353 ],\n",
       "       [ 5.5343876],\n",
       "       [ 5.4735136],\n",
       "       [ 5.5406733],\n",
       "       [ 5.774084 ],\n",
       "       [ 5.708203 ],\n",
       "       [ 5.59501  ],\n",
       "       [ 5.5297117],\n",
       "       [ 5.410673 ],\n",
       "       [ 5.216301 ],\n",
       "       [ 5.0682726],\n",
       "       [ 5.0219336],\n",
       "       [ 5.2305136],\n",
       "       [ 5.39218  ],\n",
       "       [ 5.3537607],\n",
       "       [ 5.3330183],\n",
       "       [ 5.316195 ],\n",
       "       [ 5.2812843],\n",
       "       [ 5.4181094],\n",
       "       [ 5.5618124],\n",
       "       [ 5.5741386],\n",
       "       [ 5.553494 ],\n",
       "       [ 5.520976 ],\n",
       "       [ 5.474331 ],\n",
       "       [ 5.3202624],\n",
       "       [ 5.2357287],\n",
       "       [ 5.1601586],\n",
       "       [ 4.9857225],\n",
       "       [ 4.818944 ],\n",
       "       [ 4.6186094],\n",
       "       [ 4.568152 ],\n",
       "       [ 4.7836366],\n",
       "       [ 4.9352827],\n",
       "       [ 4.9569216],\n",
       "       [ 4.853194 ],\n",
       "       [ 4.743342 ],\n",
       "       [ 4.6788015],\n",
       "       [ 4.6120086],\n",
       "       [ 4.6774335],\n",
       "       [ 4.7279487],\n",
       "       [ 4.739672 ],\n",
       "       [ 4.672029 ],\n",
       "       [ 4.5884986],\n",
       "       [ 4.4479666],\n",
       "       [ 4.319729 ],\n",
       "       [ 4.267742 ],\n",
       "       [ 4.266229 ],\n",
       "       [ 4.3329782],\n",
       "       [ 4.3508234],\n",
       "       [ 4.3141227],\n",
       "       [ 4.272206 ],\n",
       "       [ 4.2628202],\n",
       "       [ 4.394112 ],\n",
       "       [ 4.4596   ],\n",
       "       [ 4.4866915],\n",
       "       [ 4.4375434],\n",
       "       [ 4.4120574],\n",
       "       [ 4.39411  ],\n",
       "       [ 4.3650565],\n",
       "       [ 4.343169 ],\n",
       "       [ 4.3298364],\n",
       "       [ 4.2922106],\n",
       "       [ 4.2325473],\n",
       "       [ 4.186414 ],\n",
       "       [ 4.163741 ],\n",
       "       [ 4.2037096],\n",
       "       [ 4.259069 ],\n",
       "       [ 4.281349 ],\n",
       "       [ 4.2607775],\n",
       "       [ 4.2256417],\n",
       "       [ 4.1868653],\n",
       "       [ 4.1133246],\n",
       "       [ 4.0746675],\n",
       "       [ 4.0493374],\n",
       "       [ 4.0627394],\n",
       "       [ 4.0893745],\n",
       "       [ 4.1076245],\n",
       "       [ 4.078045 ],\n",
       "       [ 4.0590944],\n",
       "       [ 4.08224  ],\n",
       "       [ 4.1235538],\n",
       "       [ 4.306165 ],\n",
       "       [ 4.558315 ],\n",
       "       [ 4.5574164],\n",
       "       [ 4.4583383],\n",
       "       [ 4.317354 ],\n",
       "       [ 4.2670026],\n",
       "       [ 4.2454762],\n",
       "       [ 4.235766 ],\n",
       "       [ 4.231864 ],\n",
       "       [ 4.1533465],\n",
       "       [ 4.0827937],\n",
       "       [ 4.0318756],\n",
       "       [ 4.0435777],\n",
       "       [ 4.0879383],\n",
       "       [ 4.0891943],\n",
       "       [ 4.0688047],\n",
       "       [ 4.05893  ],\n",
       "       [ 4.057155 ],\n",
       "       [ 4.0517163],\n",
       "       [ 4.0475435],\n",
       "       [ 4.0600595],\n",
       "       [ 4.0721016],\n",
       "       [ 4.0744596],\n",
       "       [ 4.062295 ],\n",
       "       [ 4.0544696],\n",
       "       [ 4.090508 ],\n",
       "       [ 4.140273 ],\n",
       "       [ 4.136226 ],\n",
       "       [ 4.064527 ],\n",
       "       [ 4.0006447],\n",
       "       [ 3.9404843],\n",
       "       [ 3.9144351],\n",
       "       [ 3.9202585],\n",
       "       [ 3.9346044],\n",
       "       [ 3.9364462],\n",
       "       [ 3.779042 ],\n",
       "       [ 3.5969057],\n",
       "       [ 3.4036987],\n",
       "       [ 3.2877665],\n",
       "       [ 3.26659  ],\n",
       "       [ 3.3095026],\n",
       "       [ 3.3663335],\n",
       "       [ 3.3847075],\n",
       "       [ 3.3197055],\n",
       "       [ 3.23847  ],\n",
       "       [ 3.1787324],\n",
       "       [ 3.1430633],\n",
       "       [ 3.1342711],\n",
       "       [ 3.133484 ],\n",
       "       [ 3.135788 ],\n",
       "       [ 3.135615 ],\n",
       "       [ 3.1259162],\n",
       "       [ 3.103401 ],\n",
       "       [ 2.949094 ],\n",
       "       [ 2.7578714],\n",
       "       [ 2.59031  ],\n",
       "       [ 2.4831114],\n",
       "       [ 2.4454312],\n",
       "       [ 2.4417617],\n",
       "       [ 2.4410615],\n",
       "       [ 2.4102383],\n",
       "       [ 2.343708 ],\n",
       "       [ 2.263305 ],\n",
       "       [ 2.1729774],\n",
       "       [ 2.0650969],\n",
       "       [ 1.9540195],\n",
       "       [ 1.8715568],\n",
       "       [ 1.8157358],\n",
       "       [ 1.7833853],\n",
       "       [ 1.7726223],\n",
       "       [ 1.7763169],\n",
       "       [ 1.795038 ],\n",
       "       [ 1.8246175],\n",
       "       [ 1.8963654],\n",
       "       [ 2.1033525],\n",
       "       [ 2.4266694],\n",
       "       [ 2.6315408],\n",
       "       [ 2.6677446],\n",
       "       [ 2.58186  ],\n",
       "       [ 2.451538 ],\n",
       "       [ 2.3343768],\n",
       "       [ 2.2506316],\n",
       "       [ 2.210528 ],\n",
       "       [ 2.2180157],\n",
       "       [ 2.2470164],\n",
       "       [ 2.2644596],\n",
       "       [ 2.265973 ],\n",
       "       [ 2.2502809],\n",
       "       [ 2.2293103],\n",
       "       [ 2.2117996],\n",
       "       [ 2.1988544],\n",
       "       [ 2.1919732],\n",
       "       [ 2.1888924],\n",
       "       [ 2.1953154],\n",
       "       [ 2.2271206],\n",
       "       [ 2.2876182],\n",
       "       [ 2.3285208],\n",
       "       [ 2.330936 ],\n",
       "       [ 2.3112283],\n",
       "       [ 2.2815108],\n",
       "       [ 2.2561889],\n",
       "       [ 2.2451527],\n",
       "       [ 2.2483695],\n",
       "       [ 2.2528758],\n",
       "       [ 2.2539353],\n",
       "       [ 2.253237 ],\n",
       "       [ 2.2477489],\n",
       "       [ 2.2467303],\n",
       "       [ 2.2513037],\n",
       "       [ 2.264383 ],\n",
       "       [ 2.289547 ],\n",
       "       [ 2.3221776],\n",
       "       [ 2.3528504],\n",
       "       [ 2.367947 ],\n",
       "       [ 2.3648314],\n",
       "       [ 2.3496127],\n",
       "       [ 2.331197 ],\n",
       "       [ 2.3210745],\n",
       "       [ 2.338999 ],\n",
       "       [ 2.3776608],\n",
       "       [ 2.4203994],\n",
       "       [ 2.451908 ],\n",
       "       [ 2.4575338],\n",
       "       [ 2.4450989],\n",
       "       [ 2.4320784],\n",
       "       [ 2.4254932],\n",
       "       [ 2.4168591],\n",
       "       [ 2.3747175],\n",
       "       [ 2.308444 ],\n",
       "       [ 2.2447667],\n",
       "       [ 2.1985524],\n",
       "       [ 2.1796925],\n",
       "       [ 2.1826963],\n",
       "       [ 2.1930747],\n",
       "       [ 2.1930335],\n",
       "       [ 2.1789145],\n",
       "       [ 2.158966 ],\n",
       "       [ 2.1406207],\n",
       "       [ 2.124557 ],\n",
       "       [ 2.111334 ],\n",
       "       [ 2.103608 ],\n",
       "       [ 2.1012292],\n",
       "       [ 2.1054544],\n",
       "       [ 2.1134799],\n",
       "       [ 2.1225827],\n",
       "       [ 2.1307921],\n",
       "       [ 2.1341379],\n",
       "       [ 2.1293647],\n",
       "       [ 2.1140614],\n",
       "       [ 2.0871096],\n",
       "       [ 2.0514517],\n",
       "       [ 2.0084486],\n",
       "       [ 1.965871 ],\n",
       "       [ 1.9252605],\n",
       "       [ 1.8870888],\n",
       "       [ 1.863125 ],\n",
       "       [ 1.8537875],\n",
       "       [ 1.856888 ],\n",
       "       [ 1.864436 ],\n",
       "       [ 1.8715515],\n",
       "       [ 1.8743167],\n",
       "       [ 1.8791118],\n",
       "       [ 1.886646 ],\n",
       "       [ 1.8946414],\n",
       "       [ 1.8979238],\n",
       "       [ 1.8908577],\n",
       "       [ 1.8752917],\n",
       "       [ 1.8549463],\n",
       "       [ 1.8374918],\n",
       "       [ 1.828911 ],\n",
       "       [ 1.8364378],\n",
       "       [ 1.8532614],\n",
       "       [ 1.8702403],\n",
       "       [ 1.8850526],\n",
       "       [ 1.8910388],\n",
       "       [ 1.886333 ],\n",
       "       [ 1.8817652],\n",
       "       [ 1.8845439],\n",
       "       [ 1.8950063],\n",
       "       [ 1.9054675],\n",
       "       [ 1.9086859],\n",
       "       [ 1.9065764],\n",
       "       [ 1.9035672],\n",
       "       [ 1.9018699],\n",
       "       [ 1.9006488],\n",
       "       [ 1.8998014],\n",
       "       [ 1.8993862],\n",
       "       [ 1.9002051],\n",
       "       [ 1.9014637],\n",
       "       [ 1.902817 ],\n",
       "       [ 1.9056656],\n",
       "       [ 1.9485214],\n",
       "       [ 2.0543528],\n",
       "       [ 2.1752315],\n",
       "       [ 2.2582102],\n",
       "       [ 2.2890482],\n",
       "       [ 2.2833428],\n",
       "       [ 2.2643642],\n",
       "       [ 2.2437544],\n",
       "       [ 2.230203 ],\n",
       "       [ 2.2231941],\n",
       "       [ 2.2026987],\n",
       "       [ 2.165812 ],\n",
       "       [ 2.1317225],\n",
       "       [ 2.109109 ],\n",
       "       [ 2.1078658],\n",
       "       [ 2.1294298],\n",
       "       [ 2.1616733],\n",
       "       [ 2.1914735],\n",
       "       [ 2.2121687],\n",
       "       [ 2.2223969],\n",
       "       [ 2.2227519],\n",
       "       [ 2.218207 ],\n",
       "       [ 2.220427 ],\n",
       "       [ 2.257593 ],\n",
       "       [ 2.3240213],\n",
       "       [ 2.5397012],\n",
       "       [ 3.0108502],\n",
       "       [ 3.447762 ],\n",
       "       [ 3.644193 ],\n",
       "       [ 3.5981634],\n",
       "       [ 3.477661 ],\n",
       "       [ 3.354194 ],\n",
       "       [ 3.279827 ],\n",
       "       [ 3.265793 ],\n",
       "       [ 3.268104 ],\n",
       "       [ 3.2928963],\n",
       "       [ 3.378534 ]], dtype=float32)"
      ]
     },
     "execution_count": 24,
     "metadata": {},
     "output_type": "execute_result"
    }
   ],
   "source": [
    "model1.predict(X_test)"
   ]
  },
  {
   "cell_type": "code",
   "execution_count": null,
   "metadata": {},
   "outputs": [],
   "source": [
    "X_test[90]"
   ]
  },
  {
   "cell_type": "code",
   "execution_count": null,
   "metadata": {},
   "outputs": [],
   "source": [
    "pred[0]"
   ]
  },
  {
   "cell_type": "code",
   "execution_count": 53,
   "metadata": {},
   "outputs": [
    {
     "name": "stdout",
     "output_type": "stream",
     "text": [
      "Model: \"sequential_2\"\n",
      "_________________________________________________________________\n",
      "Layer (type)                 Output Shape              Param #   \n",
      "=================================================================\n",
      "lstm_6 (LSTM)                (None, 90, 30)            3960      \n",
      "_________________________________________________________________\n",
      "lstm_7 (LSTM)                (None, 90, 30)            7320      \n",
      "_________________________________________________________________\n",
      "lstm_8 (LSTM)                (None, 30)                7320      \n",
      "_________________________________________________________________\n",
      "dense_2 (Dense)              (None, 1)                 31        \n",
      "=================================================================\n",
      "Total params: 18,631\n",
      "Trainable params: 18,631\n",
      "Non-trainable params: 0\n",
      "_________________________________________________________________\n"
     ]
    }
   ],
   "source": [
    "newmodel = Sequential()\n",
    "newmodel.add(LSTM(units=30, return_sequences= True, input_shape=(X.shape[1],2)))\n",
    "newmodel.add(LSTM(units=30, return_sequences=True))\n",
    "newmodel.add(LSTM(units=30))\n",
    "newmodel.add(Dense(units=1))\n",
    "newmodel.summary()\n",
    "newmodel.compile(optimizer='adam', loss='mean_squared_error')"
   ]
  },
  {
   "cell_type": "code",
   "execution_count": 55,
   "metadata": {},
   "outputs": [
    {
     "name": "stdout",
     "output_type": "stream",
     "text": [
      "Train on 1900 samples\n",
      "Epoch 1/30\n",
      "1900/1900 [==============================] - 6s 3ms/sample - loss: 3627.89842s\n",
      "Epoch 2/30\n",
      "1900/1900 [==============================] - 6s 3ms/sample - loss: 3500.4792\n",
      "Epoch 3/30\n",
      "1900/1900 [==============================] - 6s 3ms/sample - loss: 3404.4929\n",
      "Epoch 4/30\n",
      "1900/1900 [==============================] - 6s 3ms/sample - loss: 3316.9735\n",
      "Epoch 5/30\n",
      "1900/1900 [==============================] - 7s 4ms/sample - loss: 3232.9996\n",
      "Epoch 6/30\n",
      "1900/1900 [==============================] - 6s 3ms/sample - loss: 3153.2085\n",
      "Epoch 7/30\n",
      "1900/1900 [==============================] - 6s 3ms/sample - loss: 3077.5294\n",
      "Epoch 8/30\n",
      "1900/1900 [==============================] - 6s 3ms/sample - loss: 3004.4205\n",
      "Epoch 9/30\n",
      "1900/1900 [==============================] - 6s 3ms/sample - loss: 2934.1172\n",
      "Epoch 10/30\n",
      "1900/1900 [==============================] - 6s 3ms/sample - loss: 2866.1607\n",
      "Epoch 11/30\n",
      "1900/1900 [==============================] - 6s 3ms/sample - loss: 2801.1711\n",
      "Epoch 12/30\n",
      "1900/1900 [==============================] - 6s 3ms/sample - loss: 2737.7981\n",
      "Epoch 13/30\n",
      "1900/1900 [==============================] - 7s 3ms/sample - loss: 2676.1303\n",
      "Epoch 14/30\n",
      "1900/1900 [==============================] - 7s 4ms/sample - loss: 2617.7223\n",
      "Epoch 15/30\n",
      "1900/1900 [==============================] - 6s 3ms/sample - loss: 2558.8031\n",
      "Epoch 16/30\n",
      "1900/1900 [==============================] - 6s 3ms/sample - loss: 2503.3051\n",
      "Epoch 17/30\n",
      "1900/1900 [==============================] - 6s 3ms/sample - loss: 2448.3177\n",
      "Epoch 18/30\n",
      "1900/1900 [==============================] - 6s 3ms/sample - loss: 2395.73440s - loss: 2382.\n",
      "Epoch 19/30\n",
      "1900/1900 [==============================] - 6s 3ms/sample - loss: 2344.5663\n",
      "Epoch 20/30\n",
      "1900/1900 [==============================] - 6s 3ms/sample - loss: 2294.8181\n",
      "Epoch 21/30\n",
      "1900/1900 [==============================] - 6s 3ms/sample - loss: 2247.4079\n",
      "Epoch 22/30\n",
      "1900/1900 [==============================] - 6s 3ms/sample - loss: 2200.7313\n",
      "Epoch 23/30\n",
      "1900/1900 [==============================] - 6s 3ms/sample - loss: 2155.90450s - loss: 2153.91\n",
      "Epoch 24/30\n",
      "1900/1900 [==============================] - 6s 3ms/sample - loss: 2111.3972\n",
      "Epoch 25/30\n",
      "1900/1900 [==============================] - 6s 3ms/sample - loss: 2069.1238\n",
      "Epoch 26/30\n",
      "1900/1900 [==============================] - 6s 3ms/sample - loss: 2027.7083\n",
      "Epoch 27/30\n",
      "1900/1900 [==============================] - 6s 3ms/sample - loss: 1987.3367\n",
      "Epoch 28/30\n",
      "1900/1900 [==============================] - 6s 3ms/sample - loss: 1947.5638\n",
      "Epoch 29/30\n",
      "1900/1900 [==============================] - 7s 4ms/sample - loss: 1909.0131\n",
      "Epoch 30/30\n",
      "1900/1900 [==============================] - 6s 3ms/sample - loss: 1872.0098\n"
     ]
    },
    {
     "data": {
      "text/plain": [
       "<tensorflow.python.keras.callbacks.History at 0x2062ed45898>"
      ]
     },
     "execution_count": 55,
     "metadata": {},
     "output_type": "execute_result"
    }
   ],
   "source": [
    "newmodel.fit(x_train1,y_train1,epochs=30)"
   ]
  },
  {
   "cell_type": "code",
   "execution_count": 56,
   "metadata": {},
   "outputs": [],
   "source": [
    "prediction=newmodel.predict(x_test1)"
   ]
  },
  {
   "cell_type": "code",
   "execution_count": 60,
   "metadata": {},
   "outputs": [
    {
     "data": {
      "text/plain": [
       "37.81725598039735"
      ]
     },
     "execution_count": 60,
     "metadata": {},
     "output_type": "execute_result"
    }
   ],
   "source": [
    "mean_squared_error(prediction,y_test1)\n"
   ]
  },
  {
   "cell_type": "code",
   "execution_count": 61,
   "metadata": {},
   "outputs": [],
   "source": [
    "newmodel.save(\"C:\\\\Users\\\\arjun\\\\Desktop\\\\litecoin_new.h5\",save_format='h5')"
   ]
  },
  {
   "cell_type": "code",
   "execution_count": 64,
   "metadata": {},
   "outputs": [],
   "source": [
    "model2=tf.keras.models.load_model(\"C:\\\\Users\\\\arjun\\\\Desktop\\\\litecoin_new.h5\")\n"
   ]
  },
  {
   "cell_type": "code",
   "execution_count": 67,
   "metadata": {},
   "outputs": [
    {
     "data": {
      "text/plain": [
       "[<matplotlib.lines.Line2D at 0x2064548ba20>]"
      ]
     },
     "execution_count": 67,
     "metadata": {},
     "output_type": "execute_result"
    },
    {
     "data": {
      "image/png": "[encoded data removed]",
      "text/plain": [
       "<Figure size 432x288 with 1 Axes>"
      ]
     },
     "metadata": {
      "needs_background": "light"
     },
     "output_type": "display_data"
    }
   ],
   "source": [
    "plt.plot(np.arange(51),y_test1)\n",
    "plt.plot(np.arange(51),prediction,color='g')"
   ]
  },
  {
   "cell_type": "code",
   "execution_count": 69,
   "metadata": {},
   "outputs": [
    {
     "name": "stdout",
     "output_type": "stream",
     "text": [
      "Train on 1900 samples\n",
      "Epoch 1/30\n",
      "1900/1900 [==============================] - 11s 6ms/sample - loss: 1813.8928\n",
      "Epoch 2/30\n",
      "1900/1900 [==============================] - 11s 6ms/sample - loss: 1779.0690\n",
      "Epoch 3/30\n",
      "1900/1900 [==============================] - 11s 6ms/sample - loss: 1744.6464\n",
      "Epoch 4/30\n",
      "1900/1900 [==============================] - 11s 6ms/sample - loss: 1711.8804\n",
      "Epoch 5/30\n",
      "1900/1900 [==============================] - 11s 6ms/sample - loss: 1679.6562\n",
      "Epoch 6/30\n",
      "1900/1900 [==============================] - 11s 6ms/sample - loss: 1647.7795\n",
      "Epoch 7/30\n",
      "1900/1900 [==============================] - 11s 6ms/sample - loss: 1616.5768\n",
      "Epoch 8/30\n",
      "1900/1900 [==============================] - 11s 6ms/sample - loss: 1588.2822\n",
      "Epoch 9/30\n",
      "1900/1900 [==============================] - 11s 6ms/sample - loss: 1556.2535\n",
      "Epoch 10/30\n",
      "1900/1900 [==============================] - 6s 3ms/sample - loss: 1526.7372\n",
      "Epoch 11/30\n",
      "1900/1900 [==============================] - 5s 3ms/sample - loss: 1498.4625\n",
      "Epoch 12/30\n",
      "1900/1900 [==============================] - 5s 3ms/sample - loss: 1470.6478\n",
      "Epoch 13/30\n",
      "1900/1900 [==============================] - 5s 3ms/sample - loss: 1441.4202\n",
      "Epoch 14/30\n",
      "1900/1900 [==============================] - 5s 3ms/sample - loss: 1414.5524\n",
      "Epoch 15/30\n",
      "1900/1900 [==============================] - 5s 3ms/sample - loss: 1387.7347\n",
      "Epoch 16/30\n",
      "1900/1900 [==============================] - 5s 3ms/sample - loss: 1360.6717\n",
      "Epoch 17/30\n",
      "1900/1900 [==============================] - 5s 3ms/sample - loss: 1334.8878\n",
      "Epoch 18/30\n",
      "1900/1900 [==============================] - 5s 3ms/sample - loss: 1308.8395\n",
      "Epoch 19/30\n",
      "1900/1900 [==============================] - 5s 3ms/sample - loss: 1284.3141\n",
      "Epoch 20/30\n",
      "1900/1900 [==============================] - 5s 3ms/sample - loss: 1259.1787\n",
      "Epoch 21/30\n",
      "1900/1900 [==============================] - 5s 3ms/sample - loss: 1234.7466\n",
      "Epoch 22/30\n",
      "1900/1900 [==============================] - 5s 3ms/sample - loss: 1210.8816\n",
      "Epoch 23/30\n",
      "1900/1900 [==============================] - 5s 3ms/sample - loss: 1187.7189\n",
      "Epoch 24/30\n",
      "1900/1900 [==============================] - 5s 3ms/sample - loss: 1165.1058\n",
      "Epoch 25/30\n",
      "1900/1900 [==============================] - 5s 3ms/sample - loss: 1142.3636\n",
      "Epoch 26/30\n",
      "1900/1900 [==============================] - 5s 3ms/sample - loss: 1120.5866\n",
      "Epoch 27/30\n",
      "1900/1900 [==============================] - 5s 3ms/sample - loss: 1099.0137\n",
      "Epoch 28/30\n",
      "1900/1900 [==============================] - 5s 3ms/sample - loss: 1077.7840\n",
      "Epoch 29/30\n",
      "1900/1900 [==============================] - 5s 3ms/sample - loss: 1057.3619\n",
      "Epoch 30/30\n",
      "1900/1900 [==============================] - 5s 3ms/sample - loss: 1037.1441\n"
     ]
    },
    {
     "data": {
      "text/plain": [
       "<tensorflow.python.keras.callbacks.History at 0x206578e14e0>"
      ]
     },
     "execution_count": 69,
     "metadata": {},
     "output_type": "execute_result"
    }
   ],
   "source": [
    "model2.fit(x_train1,y_train1,epochs=30)"
   ]
  },
  {
   "cell_type": "code",
   "execution_count": 71,
   "metadata": {},
   "outputs": [],
   "source": [
    "prediction_after_60_epochs=model2.predict(x_test1)"
   ]
  },
  {
   "cell_type": "code",
   "execution_count": 72,
   "metadata": {},
   "outputs": [
    {
     "data": {
      "text/plain": [
       "[<matplotlib.lines.Line2D at 0x20657d726d8>]"
      ]
     },
     "execution_count": 72,
     "metadata": {},
     "output_type": "execute_result"
    },
    {
     "data": {
      "image/png": "[encoded data removed]",
      "text/plain": [
       "<Figure size 432x288 with 1 Axes>"
      ]
     },
     "metadata": {
      "needs_background": "light"
     },
     "output_type": "display_data"
    }
   ],
   "source": [
    "plt.plot(np.arange(51),y_test1)\n",
    "plt.plot(np.arange(51),prediction_after_60_epochs,color='g')"
   ]
  },
  {
   "cell_type": "code",
   "execution_count": 75,
   "metadata": {},
   "outputs": [
    {
     "name": "stdout",
     "output_type": "stream",
     "text": [
      "Train on 1520 samples, validate on 380 samples\n",
      "Epoch 1/30\n",
      "1520/1520 [==============================] - 9s 6ms/sample - loss: 4.0256 - val_loss: 9155.8975\n",
      "Epoch 2/30\n",
      "1520/1520 [==============================] - 4s 3ms/sample - loss: 3.5500 - val_loss: 9081.0862\n",
      "Epoch 3/30\n",
      "1520/1520 [==============================] - 4s 3ms/sample - loss: 3.6915 - val_loss: 9003.7062\n",
      "Epoch 4/30\n",
      "1520/1520 [==============================] - 4s 3ms/sample - loss: 3.3159 - val_loss: 8937.8074\n",
      "Epoch 5/30\n",
      "1520/1520 [==============================] - 4s 3ms/sample - loss: 3.1469 - val_loss: 8862.0824\n",
      "Epoch 6/30\n",
      "1520/1520 [==============================] - 4s 3ms/sample - loss: 3.0377 - val_loss: 8800.3494\n",
      "Epoch 7/30\n",
      "1520/1520 [==============================] - 4s 3ms/sample - loss: 2.9943 - val_loss: 8737.4072\n",
      "Epoch 8/30\n",
      "1520/1520 [==============================] - 4s 3ms/sample - loss: 2.7318 - val_loss: 8715.9519\n",
      "Epoch 9/30\n",
      "1520/1520 [==============================] - 4s 3ms/sample - loss: 3.4008 - val_loss: 8628.0916\n",
      "Epoch 10/30\n",
      "1520/1520 [==============================] - 4s 3ms/sample - loss: 2.6032 - val_loss: 8569.6263\n",
      "Epoch 11/30\n",
      "1520/1520 [==============================] - 5s 3ms/sample - loss: 3.2322 - val_loss: 8518.2921\n",
      "Epoch 12/30\n",
      "1520/1520 [==============================] - 5s 3ms/sample - loss: 2.8749 - val_loss: 8475.7811\n",
      "Epoch 13/30\n",
      "1520/1520 [==============================] - 5s 3ms/sample - loss: 2.7386 - val_loss: 8426.8936\n",
      "Epoch 14/30\n",
      "1520/1520 [==============================] - 5s 3ms/sample - loss: 2.2252 - val_loss: 8468.6961\n",
      "Epoch 15/30\n",
      "1520/1520 [==============================] - 5s 3ms/sample - loss: 2.4460 - val_loss: 8331.0212\n",
      "Epoch 16/30\n",
      "1520/1520 [==============================] - 5s 3ms/sample - loss: 2.2638 - val_loss: 8287.6563\n",
      "Epoch 17/30\n",
      "1520/1520 [==============================] - 5s 3ms/sample - loss: 2.1090 - val_loss: 8236.5006\n",
      "Epoch 18/30\n",
      "1520/1520 [==============================] - 5s 3ms/sample - loss: 2.0750 - val_loss: 8190.3694\n",
      "Epoch 19/30\n",
      "1520/1520 [==============================] - 5s 3ms/sample - loss: 1.8677 - val_loss: 8151.2720\n",
      "Epoch 20/30\n",
      "1520/1520 [==============================] - 5s 3ms/sample - loss: 2.1284 - val_loss: 8124.9350\n",
      "Epoch 21/30\n",
      "1520/1520 [==============================] - 5s 3ms/sample - loss: 2.5040 - val_loss: 8232.6128\n",
      "Epoch 22/30\n",
      "1520/1520 [==============================] - 5s 3ms/sample - loss: 2.6480 - val_loss: 8104.4596\n",
      "Epoch 23/30\n",
      "1520/1520 [==============================] - 5s 3ms/sample - loss: 1.9833 - val_loss: 8049.8690\n",
      "Epoch 24/30\n",
      "1520/1520 [==============================] - 5s 3ms/sample - loss: 1.8179 - val_loss: 8040.0504\n",
      "Epoch 25/30\n",
      "1520/1520 [==============================] - 5s 3ms/sample - loss: 1.6251 - val_loss: 8053.5634\n",
      "Epoch 26/30\n",
      "1520/1520 [==============================] - 5s 3ms/sample - loss: 1.8677 - val_loss: 8452.0447\n",
      "Epoch 27/30\n",
      "1520/1520 [==============================] - 5s 3ms/sample - loss: 1.3350 - val_loss: 8382.4897\n",
      "Epoch 28/30\n",
      "1520/1520 [==============================] - 5s 3ms/sample - loss: 2.3288 - val_loss: 8328.4237\n",
      "Epoch 29/30\n",
      "1520/1520 [==============================] - 5s 3ms/sample - loss: 1.8715 - val_loss: 8540.4898\n",
      "Epoch 30/30\n",
      "1520/1520 [==============================] - 5s 3ms/sample - loss: 1.7324 - val_loss: 8376.3921\n"
     ]
    }
   ],
   "source": [
    "newmodel.compile(optimizer='adam', loss='mean_squared_error')\n",
    "history=newmodel.fit(x_train1,y_train1,validation_split=0.2,epochs=30)"
   ]
  },
  {
   "cell_type": "code",
   "execution_count": 76,
   "metadata": {},
   "outputs": [],
   "source": [
    "prediction_newmodel=newmodel.predict(x_test1)"
   ]
  },
  {
   "cell_type": "code",
   "execution_count": 77,
   "metadata": {},
   "outputs": [
    {
     "data": {
      "text/plain": [
       "[<matplotlib.lines.Line2D at 0x20684713dd8>]"
      ]
     },
     "execution_count": 77,
     "metadata": {},
     "output_type": "execute_result"
    },
    {
     "data": {
      "image/png": "[encoded data removed]",
      "text/plain": [
       "<Figure size 432x288 with 1 Axes>"
      ]
     },
     "metadata": {
      "needs_background": "light"
     },
     "output_type": "display_data"
    }
   ],
   "source": [
    "plt.plot(np.arange(51),y_test1)\n",
    "plt.plot(np.arange(51),prediction_newmodel,color='g')"
   ]
  },
  {
   "cell_type": "code",
   "execution_count": 79,
   "metadata": {},
   "outputs": [
    {
     "data": {
      "text/plain": [
       "[<matplotlib.lines.Line2D at 0x206846b99e8>]"
      ]
     },
     "execution_count": 79,
     "metadata": {},
     "output_type": "execute_result"
    },
    {
     "data": {
      "image/png": "[encoded data removed]",
      "text/plain": [
       "<Figure size 432x288 with 1 Axes>"
      ]
     },
     "metadata": {
      "needs_background": "light"
     },
     "output_type": "display_data"
    }
   ],
   "source": [
    "plt.plot(history.history['loss'])\n",
    "plt.plot(history.history['val_loss'])"
   ]
  },
  {
   "cell_type": "code",
   "execution_count": null,
   "metadata": {},
   "outputs": [],
   "source": [
    "model_with_dropouts="
   ]
  }
 ],
 "metadata": {
  "kernelspec": {
   "display_name": "Python 3.7.3 64-bit",
   "language": "python",
   "name": "python37364bit78a5b1014c8445a38f92a69ee113ef9d"
  },
  "language_info": {
   "codemirror_mode": {
    "name": "ipython",
    "version": 3
   },
   "file_extension": ".py",
   "mimetype": "text/x-python",
   "name": "python",
   "nbconvert_exporter": "python",
   "pygments_lexer": "ipython3",
   "version": "3.7.3"
  }
 },
 "nbformat": 4,
 "nbformat_minor": 4
}
